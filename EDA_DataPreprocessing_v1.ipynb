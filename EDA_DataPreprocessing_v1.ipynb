{
 "cells": [
  {
   "cell_type": "markdown",
   "metadata": {},
   "source": [
    "<html>\n",
    "<font color = green size = 5>\n",
    "<b> Exploratory Data Analysis - Data PreProcessing\n",
    "</b>\n",
    "</font>\n",
    "</html>"
   ]
  },
  {
   "cell_type": "markdown",
   "metadata": {},
   "source": [
    "<html>\n",
    "<font color = blue size = 2>\n",
    "author: Sulekha Aloorravi\n",
    "</font>\n",
    "</html>\n"
   ]
  },
  {
   "cell_type": "markdown",
   "metadata": {},
   "source": [
    "### Contents:\n",
    "\n",
    "1. Missing Values Treatment\n",
    "2. Handling non numeric data\n",
    "3. Data Transformations\n",
    "4. Outlier Treatment\n",
    "5. Multicollinearity and VIF"
   ]
  },
  {
   "cell_type": "markdown",
   "metadata": {},
   "source": [
    "To begin with, let us import some of the basic libraries."
   ]
  },
  {
   "cell_type": "code",
   "execution_count": 1,
   "metadata": {
    "collapsed": true
   },
   "outputs": [],
   "source": [
    "#Import Libraries\n",
    "import pandas as pd\n",
    "import numpy as np\n",
    "\n",
    "%matplotlib inline \n",
    "\n",
    "import matplotlib\n",
    "import matplotlib.pyplot as plt \n",
    "\n",
    "import warnings\n",
    "warnings.filterwarnings('ignore')"
   ]
  },
  {
   "cell_type": "markdown",
   "metadata": {},
   "source": [
    "We are going to load **Melbourne Housing Data Set** to perform a detailed Data preprocessing exercise."
   ]
  },
  {
   "cell_type": "markdown",
   "metadata": {},
   "source": [
    "Default NA values that are handled by pandas are as follows:\n",
    "\n",
    "‘’, ‘#N/A’, ‘#N/A N/A’, ‘#NA’, ‘-1.#IND’, ‘-1.#QNAN’, ‘-NaN’, ‘-nan’, ‘1.#IND’, ‘1.#QNAN’, ‘N/A’, ‘NA’, ‘NULL’, ‘NaN’, ‘n/a’, ‘nan’, ‘null’.\n",
    "\n",
    "Additionally, we have \"inf\",\"missing\" in the dataset, which needs to be handled while loading the data."
   ]
  },
  {
   "cell_type": "code",
   "execution_count": 2,
   "metadata": {
    "collapsed": true
   },
   "outputs": [],
   "source": [
    "Missing_Values = [\"inf\",\"missing\"]"
   ]
  },
  {
   "cell_type": "markdown",
   "metadata": {},
   "source": [
    "### Load dataset"
   ]
  },
  {
   "cell_type": "code",
   "execution_count": 3,
   "metadata": {
    "collapsed": true
   },
   "outputs": [],
   "source": [
    "df = pd.read_csv(\"Melbourne_housing_FULL.csv\",low_memory=False,keep_default_na = True, na_values = Missing_Values)"
   ]
  },
  {
   "cell_type": "code",
   "execution_count": 4,
   "metadata": {},
   "outputs": [
    {
     "data": {
      "text/html": [
       "<div>\n",
       "<style>\n",
       "    .dataframe thead tr:only-child th {\n",
       "        text-align: right;\n",
       "    }\n",
       "\n",
       "    .dataframe thead th {\n",
       "        text-align: left;\n",
       "    }\n",
       "\n",
       "    .dataframe tbody tr th {\n",
       "        vertical-align: top;\n",
       "    }\n",
       "</style>\n",
       "<table border=\"1\" class=\"dataframe\">\n",
       "  <thead>\n",
       "    <tr style=\"text-align: right;\">\n",
       "      <th></th>\n",
       "      <th>Suburb</th>\n",
       "      <th>Address</th>\n",
       "      <th>Rooms</th>\n",
       "      <th>Type</th>\n",
       "      <th>Method</th>\n",
       "      <th>SellerG</th>\n",
       "      <th>Date</th>\n",
       "      <th>Distance</th>\n",
       "      <th>Postcode</th>\n",
       "      <th>Bedroom</th>\n",
       "      <th>...</th>\n",
       "      <th>Landsize</th>\n",
       "      <th>BuildingArea</th>\n",
       "      <th>YearBuilt</th>\n",
       "      <th>CouncilArea</th>\n",
       "      <th>Latitude</th>\n",
       "      <th>Longtitude</th>\n",
       "      <th>Regionname</th>\n",
       "      <th>Propertycount</th>\n",
       "      <th>ParkingArea</th>\n",
       "      <th>Price</th>\n",
       "    </tr>\n",
       "  </thead>\n",
       "  <tbody>\n",
       "    <tr>\n",
       "      <th>0</th>\n",
       "      <td>Abbotsford</td>\n",
       "      <td>68 Studley St</td>\n",
       "      <td>2</td>\n",
       "      <td>h</td>\n",
       "      <td>SS</td>\n",
       "      <td>Jellis</td>\n",
       "      <td>3/9/2016</td>\n",
       "      <td>2.5</td>\n",
       "      <td>3067.0</td>\n",
       "      <td>2.0</td>\n",
       "      <td>...</td>\n",
       "      <td>126.0</td>\n",
       "      <td>NaN</td>\n",
       "      <td>NaN</td>\n",
       "      <td>Yarra City Council</td>\n",
       "      <td>-37.8014</td>\n",
       "      <td>144.9958</td>\n",
       "      <td>Northern Metropolitan</td>\n",
       "      <td>4019.0</td>\n",
       "      <td>Carport</td>\n",
       "      <td>NaN</td>\n",
       "    </tr>\n",
       "    <tr>\n",
       "      <th>1</th>\n",
       "      <td>Airport West</td>\n",
       "      <td>154 Halsey Rd</td>\n",
       "      <td>3</td>\n",
       "      <td>t</td>\n",
       "      <td>PI</td>\n",
       "      <td>Nelson</td>\n",
       "      <td>3/9/2016</td>\n",
       "      <td>13.5</td>\n",
       "      <td>3042.0</td>\n",
       "      <td>3.0</td>\n",
       "      <td>...</td>\n",
       "      <td>303.0</td>\n",
       "      <td>225.0</td>\n",
       "      <td>2016.0</td>\n",
       "      <td>Moonee Valley City Council</td>\n",
       "      <td>-37.7180</td>\n",
       "      <td>144.8780</td>\n",
       "      <td>Western Metropolitan</td>\n",
       "      <td>3464.0</td>\n",
       "      <td>Detached Garage</td>\n",
       "      <td>840000.0</td>\n",
       "    </tr>\n",
       "    <tr>\n",
       "      <th>2</th>\n",
       "      <td>Albert Park</td>\n",
       "      <td>105 Kerferd Rd</td>\n",
       "      <td>2</td>\n",
       "      <td>h</td>\n",
       "      <td>S</td>\n",
       "      <td>hockingstuart</td>\n",
       "      <td>3/9/2016</td>\n",
       "      <td>3.3</td>\n",
       "      <td>3206.0</td>\n",
       "      <td>2.0</td>\n",
       "      <td>...</td>\n",
       "      <td>120.0</td>\n",
       "      <td>82.0</td>\n",
       "      <td>1900.0</td>\n",
       "      <td>Port Phillip City Council</td>\n",
       "      <td>-37.8459</td>\n",
       "      <td>144.9555</td>\n",
       "      <td>Southern Metropolitan</td>\n",
       "      <td>3280.0</td>\n",
       "      <td>Attached Garage</td>\n",
       "      <td>1275000.0</td>\n",
       "    </tr>\n",
       "    <tr>\n",
       "      <th>3</th>\n",
       "      <td>Albert Park</td>\n",
       "      <td>85 Richardson St</td>\n",
       "      <td>2</td>\n",
       "      <td>h</td>\n",
       "      <td>S</td>\n",
       "      <td>Thomson</td>\n",
       "      <td>3/9/2016</td>\n",
       "      <td>3.3</td>\n",
       "      <td>3206.0</td>\n",
       "      <td>2.0</td>\n",
       "      <td>...</td>\n",
       "      <td>159.0</td>\n",
       "      <td>NaN</td>\n",
       "      <td>NaN</td>\n",
       "      <td>Port Phillip City Council</td>\n",
       "      <td>-37.8450</td>\n",
       "      <td>144.9538</td>\n",
       "      <td>Southern Metropolitan</td>\n",
       "      <td>3280.0</td>\n",
       "      <td>Indoor</td>\n",
       "      <td>1455000.0</td>\n",
       "    </tr>\n",
       "    <tr>\n",
       "      <th>4</th>\n",
       "      <td>Alphington</td>\n",
       "      <td>30 Austin St</td>\n",
       "      <td>3</td>\n",
       "      <td>h</td>\n",
       "      <td>SN</td>\n",
       "      <td>McGrath</td>\n",
       "      <td>3/9/2016</td>\n",
       "      <td>6.4</td>\n",
       "      <td>3078.0</td>\n",
       "      <td>3.0</td>\n",
       "      <td>...</td>\n",
       "      <td>174.0</td>\n",
       "      <td>122.0</td>\n",
       "      <td>2003.0</td>\n",
       "      <td>Darebin City Council</td>\n",
       "      <td>-37.7818</td>\n",
       "      <td>145.0198</td>\n",
       "      <td>Northern Metropolitan</td>\n",
       "      <td>2211.0</td>\n",
       "      <td>Parkade</td>\n",
       "      <td>NaN</td>\n",
       "    </tr>\n",
       "  </tbody>\n",
       "</table>\n",
       "<p>5 rows × 22 columns</p>\n",
       "</div>"
      ],
      "text/plain": [
       "         Suburb           Address  Rooms Type Method        SellerG      Date  \\\n",
       "0    Abbotsford     68 Studley St      2    h     SS         Jellis  3/9/2016   \n",
       "1  Airport West     154 Halsey Rd      3    t     PI         Nelson  3/9/2016   \n",
       "2   Albert Park    105 Kerferd Rd      2    h      S  hockingstuart  3/9/2016   \n",
       "3   Albert Park  85 Richardson St      2    h      S        Thomson  3/9/2016   \n",
       "4    Alphington      30 Austin St      3    h     SN        McGrath  3/9/2016   \n",
       "\n",
       "   Distance  Postcode  Bedroom    ...      Landsize  BuildingArea  YearBuilt  \\\n",
       "0       2.5    3067.0      2.0    ...         126.0           NaN        NaN   \n",
       "1      13.5    3042.0      3.0    ...         303.0         225.0     2016.0   \n",
       "2       3.3    3206.0      2.0    ...         120.0          82.0     1900.0   \n",
       "3       3.3    3206.0      2.0    ...         159.0           NaN        NaN   \n",
       "4       6.4    3078.0      3.0    ...         174.0         122.0     2003.0   \n",
       "\n",
       "                  CouncilArea  Latitude Longtitude             Regionname  \\\n",
       "0          Yarra City Council  -37.8014   144.9958  Northern Metropolitan   \n",
       "1  Moonee Valley City Council  -37.7180   144.8780   Western Metropolitan   \n",
       "2   Port Phillip City Council  -37.8459   144.9555  Southern Metropolitan   \n",
       "3   Port Phillip City Council  -37.8450   144.9538  Southern Metropolitan   \n",
       "4        Darebin City Council  -37.7818   145.0198  Northern Metropolitan   \n",
       "\n",
       "   Propertycount      ParkingArea      Price  \n",
       "0         4019.0          Carport        NaN  \n",
       "1         3464.0  Detached Garage   840000.0  \n",
       "2         3280.0  Attached Garage  1275000.0  \n",
       "3         3280.0           Indoor  1455000.0  \n",
       "4         2211.0          Parkade        NaN  \n",
       "\n",
       "[5 rows x 22 columns]"
      ]
     },
     "execution_count": 4,
     "metadata": {},
     "output_type": "execute_result"
    }
   ],
   "source": [
    "df.head(5)"
   ]
  },
  {
   "cell_type": "code",
   "execution_count": 5,
   "metadata": {},
   "outputs": [
    {
     "data": {
      "text/plain": [
       "Suburb            object\n",
       "Address           object\n",
       "Rooms              int64\n",
       "Type              object\n",
       "Method            object\n",
       "SellerG           object\n",
       "Date              object\n",
       "Distance         float64\n",
       "Postcode         float64\n",
       "Bedroom          float64\n",
       "Bathroom         float64\n",
       "Car              float64\n",
       "Landsize         float64\n",
       "BuildingArea     float64\n",
       "YearBuilt        float64\n",
       "CouncilArea       object\n",
       "Latitude         float64\n",
       "Longtitude       float64\n",
       "Regionname        object\n",
       "Propertycount    float64\n",
       "ParkingArea       object\n",
       "Price            float64\n",
       "dtype: object"
      ]
     },
     "execution_count": 5,
     "metadata": {},
     "output_type": "execute_result"
    }
   ],
   "source": [
    "df.dtypes"
   ]
  },
  {
   "cell_type": "markdown",
   "metadata": {},
   "source": [
    "### Modify variables into their correct datatypes"
   ]
  },
  {
   "cell_type": "code",
   "execution_count": 6,
   "metadata": {
    "collapsed": true
   },
   "outputs": [],
   "source": [
    "df['Date'] = pd.to_datetime(df['Date'])\n",
    "df['Postcode'] = df['Postcode'].astype(object)\n",
    "df['YearBuilt'] = df['YearBuilt'].astype(object)\n",
    "df['Latitude'] = df['Latitude'].astype(object)\n",
    "df['Longtitude'] = df['Longtitude'].astype(object)\n",
    "df['Propertycount'] = df['Propertycount'].astype(int, errors = 'ignore')"
   ]
  },
  {
   "cell_type": "code",
   "execution_count": 7,
   "metadata": {},
   "outputs": [
    {
     "data": {
      "text/plain": [
       "Suburb                   object\n",
       "Address                  object\n",
       "Rooms                     int64\n",
       "Type                     object\n",
       "Method                   object\n",
       "SellerG                  object\n",
       "Date             datetime64[ns]\n",
       "Distance                float64\n",
       "Postcode                 object\n",
       "Bedroom                 float64\n",
       "Bathroom                float64\n",
       "Car                     float64\n",
       "Landsize                float64\n",
       "BuildingArea            float64\n",
       "YearBuilt                object\n",
       "CouncilArea              object\n",
       "Latitude                 object\n",
       "Longtitude               object\n",
       "Regionname               object\n",
       "Propertycount           float64\n",
       "ParkingArea              object\n",
       "Price                   float64\n",
       "dtype: object"
      ]
     },
     "execution_count": 7,
     "metadata": {},
     "output_type": "execute_result"
    }
   ],
   "source": [
    "df.dtypes"
   ]
  },
  {
   "cell_type": "markdown",
   "metadata": {},
   "source": [
    "### Glance summary statistics"
   ]
  },
  {
   "cell_type": "code",
   "execution_count": 8,
   "metadata": {},
   "outputs": [
    {
     "data": {
      "text/html": [
       "<div>\n",
       "<style>\n",
       "    .dataframe thead tr:only-child th {\n",
       "        text-align: right;\n",
       "    }\n",
       "\n",
       "    .dataframe thead th {\n",
       "        text-align: left;\n",
       "    }\n",
       "\n",
       "    .dataframe tbody tr th {\n",
       "        vertical-align: top;\n",
       "    }\n",
       "</style>\n",
       "<table border=\"1\" class=\"dataframe\">\n",
       "  <thead>\n",
       "    <tr style=\"text-align: right;\">\n",
       "      <th></th>\n",
       "      <th>Rooms</th>\n",
       "      <th>Distance</th>\n",
       "      <th>Bedroom</th>\n",
       "      <th>Bathroom</th>\n",
       "      <th>Car</th>\n",
       "      <th>Landsize</th>\n",
       "      <th>BuildingArea</th>\n",
       "      <th>Propertycount</th>\n",
       "      <th>Price</th>\n",
       "    </tr>\n",
       "  </thead>\n",
       "  <tbody>\n",
       "    <tr>\n",
       "      <th>count</th>\n",
       "      <td>34857.000000</td>\n",
       "      <td>34856.000000</td>\n",
       "      <td>26640.000000</td>\n",
       "      <td>26631.000000</td>\n",
       "      <td>26129.000000</td>\n",
       "      <td>23047.000000</td>\n",
       "      <td>13742.00000</td>\n",
       "      <td>34854.000000</td>\n",
       "      <td>2.724700e+04</td>\n",
       "    </tr>\n",
       "    <tr>\n",
       "      <th>mean</th>\n",
       "      <td>3.031012</td>\n",
       "      <td>11.184929</td>\n",
       "      <td>3.084647</td>\n",
       "      <td>1.624798</td>\n",
       "      <td>1.728845</td>\n",
       "      <td>593.598993</td>\n",
       "      <td>160.25640</td>\n",
       "      <td>7572.888306</td>\n",
       "      <td>1.050173e+06</td>\n",
       "    </tr>\n",
       "    <tr>\n",
       "      <th>std</th>\n",
       "      <td>0.969933</td>\n",
       "      <td>6.788892</td>\n",
       "      <td>0.980690</td>\n",
       "      <td>0.724212</td>\n",
       "      <td>1.010771</td>\n",
       "      <td>3398.841946</td>\n",
       "      <td>401.26706</td>\n",
       "      <td>4428.090313</td>\n",
       "      <td>6.414671e+05</td>\n",
       "    </tr>\n",
       "    <tr>\n",
       "      <th>min</th>\n",
       "      <td>1.000000</td>\n",
       "      <td>0.000000</td>\n",
       "      <td>0.000000</td>\n",
       "      <td>0.000000</td>\n",
       "      <td>0.000000</td>\n",
       "      <td>0.000000</td>\n",
       "      <td>0.00000</td>\n",
       "      <td>83.000000</td>\n",
       "      <td>8.500000e+04</td>\n",
       "    </tr>\n",
       "    <tr>\n",
       "      <th>25%</th>\n",
       "      <td>2.000000</td>\n",
       "      <td>6.400000</td>\n",
       "      <td>2.000000</td>\n",
       "      <td>1.000000</td>\n",
       "      <td>1.000000</td>\n",
       "      <td>224.000000</td>\n",
       "      <td>102.00000</td>\n",
       "      <td>4385.000000</td>\n",
       "      <td>6.350000e+05</td>\n",
       "    </tr>\n",
       "    <tr>\n",
       "      <th>50%</th>\n",
       "      <td>3.000000</td>\n",
       "      <td>10.300000</td>\n",
       "      <td>3.000000</td>\n",
       "      <td>2.000000</td>\n",
       "      <td>2.000000</td>\n",
       "      <td>521.000000</td>\n",
       "      <td>136.00000</td>\n",
       "      <td>6763.000000</td>\n",
       "      <td>8.700000e+05</td>\n",
       "    </tr>\n",
       "    <tr>\n",
       "      <th>75%</th>\n",
       "      <td>4.000000</td>\n",
       "      <td>14.000000</td>\n",
       "      <td>4.000000</td>\n",
       "      <td>2.000000</td>\n",
       "      <td>2.000000</td>\n",
       "      <td>670.000000</td>\n",
       "      <td>188.00000</td>\n",
       "      <td>10412.000000</td>\n",
       "      <td>1.295000e+06</td>\n",
       "    </tr>\n",
       "    <tr>\n",
       "      <th>max</th>\n",
       "      <td>16.000000</td>\n",
       "      <td>48.100000</td>\n",
       "      <td>30.000000</td>\n",
       "      <td>12.000000</td>\n",
       "      <td>26.000000</td>\n",
       "      <td>433014.000000</td>\n",
       "      <td>44515.00000</td>\n",
       "      <td>21650.000000</td>\n",
       "      <td>1.120000e+07</td>\n",
       "    </tr>\n",
       "  </tbody>\n",
       "</table>\n",
       "</div>"
      ],
      "text/plain": [
       "              Rooms      Distance       Bedroom      Bathroom           Car  \\\n",
       "count  34857.000000  34856.000000  26640.000000  26631.000000  26129.000000   \n",
       "mean       3.031012     11.184929      3.084647      1.624798      1.728845   \n",
       "std        0.969933      6.788892      0.980690      0.724212      1.010771   \n",
       "min        1.000000      0.000000      0.000000      0.000000      0.000000   \n",
       "25%        2.000000      6.400000      2.000000      1.000000      1.000000   \n",
       "50%        3.000000     10.300000      3.000000      2.000000      2.000000   \n",
       "75%        4.000000     14.000000      4.000000      2.000000      2.000000   \n",
       "max       16.000000     48.100000     30.000000     12.000000     26.000000   \n",
       "\n",
       "            Landsize  BuildingArea  Propertycount         Price  \n",
       "count   23047.000000   13742.00000   34854.000000  2.724700e+04  \n",
       "mean      593.598993     160.25640    7572.888306  1.050173e+06  \n",
       "std      3398.841946     401.26706    4428.090313  6.414671e+05  \n",
       "min         0.000000       0.00000      83.000000  8.500000e+04  \n",
       "25%       224.000000     102.00000    4385.000000  6.350000e+05  \n",
       "50%       521.000000     136.00000    6763.000000  8.700000e+05  \n",
       "75%       670.000000     188.00000   10412.000000  1.295000e+06  \n",
       "max    433014.000000   44515.00000   21650.000000  1.120000e+07  "
      ]
     },
     "execution_count": 8,
     "metadata": {},
     "output_type": "execute_result"
    }
   ],
   "source": [
    "df.describe()"
   ]
  },
  {
   "cell_type": "markdown",
   "metadata": {},
   "source": [
    "<html>\n",
    "<font color = Blue size = 4>\n",
    "<b> Missing Values Treatment\n",
    "</b>\n",
    "</font>\n",
    "</html>"
   ]
  },
  {
   "cell_type": "markdown",
   "metadata": {},
   "source": [
    "Let us have a look at the missing data first."
   ]
  },
  {
   "cell_type": "code",
   "execution_count": 9,
   "metadata": {},
   "outputs": [
    {
     "data": {
      "text/plain": [
       "Distance             1\n",
       "Postcode             1\n",
       "Bedroom           8217\n",
       "Bathroom          8226\n",
       "Car               8728\n",
       "Landsize         11810\n",
       "BuildingArea     21115\n",
       "YearBuilt        19306\n",
       "CouncilArea          3\n",
       "Latitude          7976\n",
       "Longtitude        7976\n",
       "Propertycount        3\n",
       "Price             7610\n",
       "dtype: int64"
      ]
     },
     "execution_count": 9,
     "metadata": {},
     "output_type": "execute_result"
    }
   ],
   "source": [
    "missing_values=df.columns[df.isnull().any()]\n",
    "df[missing_values].isnull().sum()"
   ]
  },
  {
   "cell_type": "code",
   "execution_count": 10,
   "metadata": {},
   "outputs": [
    {
     "data": {
      "text/html": [
       "<div>\n",
       "<style>\n",
       "    .dataframe thead tr:only-child th {\n",
       "        text-align: right;\n",
       "    }\n",
       "\n",
       "    .dataframe thead th {\n",
       "        text-align: left;\n",
       "    }\n",
       "\n",
       "    .dataframe tbody tr th {\n",
       "        vertical-align: top;\n",
       "    }\n",
       "</style>\n",
       "<table border=\"1\" class=\"dataframe\">\n",
       "  <thead>\n",
       "    <tr style=\"text-align: right;\">\n",
       "      <th></th>\n",
       "      <th>Distance</th>\n",
       "      <th>Postcode</th>\n",
       "      <th>Bedroom</th>\n",
       "      <th>Bathroom</th>\n",
       "      <th>Car</th>\n",
       "      <th>Landsize</th>\n",
       "      <th>BuildingArea</th>\n",
       "      <th>YearBuilt</th>\n",
       "      <th>CouncilArea</th>\n",
       "      <th>Latitude</th>\n",
       "      <th>Longtitude</th>\n",
       "      <th>Propertycount</th>\n",
       "      <th>Price</th>\n",
       "    </tr>\n",
       "  </thead>\n",
       "  <tbody>\n",
       "    <tr>\n",
       "      <th>0</th>\n",
       "      <td>2.5</td>\n",
       "      <td>3067</td>\n",
       "      <td>2.0</td>\n",
       "      <td>1.0</td>\n",
       "      <td>1.0</td>\n",
       "      <td>126.0</td>\n",
       "      <td>NaN</td>\n",
       "      <td>NaN</td>\n",
       "      <td>Yarra City Council</td>\n",
       "      <td>-37.8014</td>\n",
       "      <td>144.996</td>\n",
       "      <td>4019.0</td>\n",
       "      <td>NaN</td>\n",
       "    </tr>\n",
       "    <tr>\n",
       "      <th>3</th>\n",
       "      <td>3.3</td>\n",
       "      <td>3206</td>\n",
       "      <td>2.0</td>\n",
       "      <td>1.0</td>\n",
       "      <td>0.0</td>\n",
       "      <td>159.0</td>\n",
       "      <td>NaN</td>\n",
       "      <td>NaN</td>\n",
       "      <td>Port Phillip City Council</td>\n",
       "      <td>-37.845</td>\n",
       "      <td>144.954</td>\n",
       "      <td>3280.0</td>\n",
       "      <td>1455000.0</td>\n",
       "    </tr>\n",
       "    <tr>\n",
       "      <th>4</th>\n",
       "      <td>6.4</td>\n",
       "      <td>3078</td>\n",
       "      <td>3.0</td>\n",
       "      <td>2.0</td>\n",
       "      <td>1.0</td>\n",
       "      <td>174.0</td>\n",
       "      <td>122.0</td>\n",
       "      <td>2003</td>\n",
       "      <td>Darebin City Council</td>\n",
       "      <td>-37.7818</td>\n",
       "      <td>145.02</td>\n",
       "      <td>2211.0</td>\n",
       "      <td>NaN</td>\n",
       "    </tr>\n",
       "    <tr>\n",
       "      <th>6</th>\n",
       "      <td>6.4</td>\n",
       "      <td>3078</td>\n",
       "      <td>3.0</td>\n",
       "      <td>2.0</td>\n",
       "      <td>2.0</td>\n",
       "      <td>208.0</td>\n",
       "      <td>NaN</td>\n",
       "      <td>2013</td>\n",
       "      <td>Darebin City Council</td>\n",
       "      <td>-37.7854</td>\n",
       "      <td>145.032</td>\n",
       "      <td>2211.0</td>\n",
       "      <td>1110000.0</td>\n",
       "    </tr>\n",
       "    <tr>\n",
       "      <th>8</th>\n",
       "      <td>11.1</td>\n",
       "      <td>3025</td>\n",
       "      <td>3.0</td>\n",
       "      <td>1.0</td>\n",
       "      <td>1.0</td>\n",
       "      <td>620.0</td>\n",
       "      <td>108.0</td>\n",
       "      <td>1950</td>\n",
       "      <td>Hobsons Bay City Council</td>\n",
       "      <td>-37.829</td>\n",
       "      <td>144.848</td>\n",
       "      <td>5132.0</td>\n",
       "      <td>NaN</td>\n",
       "    </tr>\n",
       "  </tbody>\n",
       "</table>\n",
       "</div>"
      ],
      "text/plain": [
       "   Distance Postcode  Bedroom  Bathroom  Car  Landsize  BuildingArea  \\\n",
       "0       2.5     3067      2.0       1.0  1.0     126.0           NaN   \n",
       "3       3.3     3206      2.0       1.0  0.0     159.0           NaN   \n",
       "4       6.4     3078      3.0       2.0  1.0     174.0         122.0   \n",
       "6       6.4     3078      3.0       2.0  2.0     208.0           NaN   \n",
       "8      11.1     3025      3.0       1.0  1.0     620.0         108.0   \n",
       "\n",
       "  YearBuilt                CouncilArea Latitude Longtitude  Propertycount  \\\n",
       "0       NaN         Yarra City Council -37.8014    144.996         4019.0   \n",
       "3       NaN  Port Phillip City Council  -37.845    144.954         3280.0   \n",
       "4      2003       Darebin City Council -37.7818     145.02         2211.0   \n",
       "6      2013       Darebin City Council -37.7854    145.032         2211.0   \n",
       "8      1950   Hobsons Bay City Council  -37.829    144.848         5132.0   \n",
       "\n",
       "       Price  \n",
       "0        NaN  \n",
       "3  1455000.0  \n",
       "4        NaN  \n",
       "6  1110000.0  \n",
       "8        NaN  "
      ]
     },
     "execution_count": 10,
     "metadata": {},
     "output_type": "execute_result"
    }
   ],
   "source": [
    "df[df.isnull().any(axis=1)][missing_values].head()"
   ]
  },
  {
   "cell_type": "markdown",
   "metadata": {},
   "source": [
    "Missing data might mislead our analysis. To avoid issues in analysing the data, we might need to impute it using one of the below methods."
   ]
  },
  {
   "cell_type": "markdown",
   "metadata": {},
   "source": [
    "### Method1: Delete"
   ]
  },
  {
   "cell_type": "markdown",
   "metadata": {},
   "source": [
    "We can simply delete the missing values if the count of missing records is insignificant compared to the total number of records. Eg: only 2% of the records have missing values in a large dataset. "
   ]
  },
  {
   "cell_type": "code",
   "execution_count": 11,
   "metadata": {},
   "outputs": [
    {
     "data": {
      "text/html": [
       "<div>\n",
       "<style>\n",
       "    .dataframe thead tr:only-child th {\n",
       "        text-align: right;\n",
       "    }\n",
       "\n",
       "    .dataframe thead th {\n",
       "        text-align: left;\n",
       "    }\n",
       "\n",
       "    .dataframe tbody tr th {\n",
       "        vertical-align: top;\n",
       "    }\n",
       "</style>\n",
       "<table border=\"1\" class=\"dataframe\">\n",
       "  <thead>\n",
       "    <tr style=\"text-align: right;\">\n",
       "      <th></th>\n",
       "      <th>Distance</th>\n",
       "      <th>Postcode</th>\n",
       "      <th>Bedroom</th>\n",
       "      <th>Bathroom</th>\n",
       "      <th>Car</th>\n",
       "      <th>Landsize</th>\n",
       "      <th>BuildingArea</th>\n",
       "      <th>YearBuilt</th>\n",
       "      <th>CouncilArea</th>\n",
       "      <th>Latitude</th>\n",
       "      <th>Longtitude</th>\n",
       "      <th>Propertycount</th>\n",
       "      <th>Price</th>\n",
       "    </tr>\n",
       "  </thead>\n",
       "  <tbody>\n",
       "    <tr>\n",
       "      <th>12355</th>\n",
       "      <td>NaN</td>\n",
       "      <td>NaN</td>\n",
       "      <td>NaN</td>\n",
       "      <td>NaN</td>\n",
       "      <td>NaN</td>\n",
       "      <td>NaN</td>\n",
       "      <td>NaN</td>\n",
       "      <td>NaN</td>\n",
       "      <td>NaN</td>\n",
       "      <td>NaN</td>\n",
       "      <td>NaN</td>\n",
       "      <td>NaN</td>\n",
       "      <td>616000.0</td>\n",
       "    </tr>\n",
       "  </tbody>\n",
       "</table>\n",
       "</div>"
      ],
      "text/plain": [
       "       Distance Postcode  Bedroom  Bathroom  Car  Landsize  BuildingArea  \\\n",
       "12355       NaN      NaN      NaN       NaN  NaN       NaN           NaN   \n",
       "\n",
       "      YearBuilt CouncilArea Latitude Longtitude  Propertycount     Price  \n",
       "12355       NaN         NaN      NaN        NaN            NaN  616000.0  "
      ]
     },
     "execution_count": 11,
     "metadata": {},
     "output_type": "execute_result"
    }
   ],
   "source": [
    "df[df[\"Distance\"].isnull()][missing_values].head(5)"
   ]
  },
  {
   "cell_type": "code",
   "execution_count": 12,
   "metadata": {
    "collapsed": true
   },
   "outputs": [],
   "source": [
    "df.dropna(subset= ['Distance'], inplace = True)"
   ]
  },
  {
   "cell_type": "code",
   "execution_count": 13,
   "metadata": {},
   "outputs": [
    {
     "data": {
      "text/html": [
       "<div>\n",
       "<style>\n",
       "    .dataframe thead tr:only-child th {\n",
       "        text-align: right;\n",
       "    }\n",
       "\n",
       "    .dataframe thead th {\n",
       "        text-align: left;\n",
       "    }\n",
       "\n",
       "    .dataframe tbody tr th {\n",
       "        vertical-align: top;\n",
       "    }\n",
       "</style>\n",
       "<table border=\"1\" class=\"dataframe\">\n",
       "  <thead>\n",
       "    <tr style=\"text-align: right;\">\n",
       "      <th></th>\n",
       "      <th>Distance</th>\n",
       "      <th>Postcode</th>\n",
       "      <th>Bedroom</th>\n",
       "      <th>Bathroom</th>\n",
       "      <th>Car</th>\n",
       "      <th>Landsize</th>\n",
       "      <th>BuildingArea</th>\n",
       "      <th>YearBuilt</th>\n",
       "      <th>CouncilArea</th>\n",
       "      <th>Latitude</th>\n",
       "      <th>Longtitude</th>\n",
       "      <th>Propertycount</th>\n",
       "      <th>Price</th>\n",
       "    </tr>\n",
       "  </thead>\n",
       "  <tbody>\n",
       "  </tbody>\n",
       "</table>\n",
       "</div>"
      ],
      "text/plain": [
       "Empty DataFrame\n",
       "Columns: [Distance, Postcode, Bedroom, Bathroom, Car, Landsize, BuildingArea, YearBuilt, CouncilArea, Latitude, Longtitude, Propertycount, Price]\n",
       "Index: []"
      ]
     },
     "execution_count": 13,
     "metadata": {},
     "output_type": "execute_result"
    }
   ],
   "source": [
    "df[df[\"Distance\"].isnull()][missing_values].head(5)"
   ]
  },
  {
   "cell_type": "markdown",
   "metadata": {},
   "source": [
    "### Method 2: Replace with summary statistics"
   ]
  },
  {
   "cell_type": "markdown",
   "metadata": {},
   "source": [
    "#### Replace with median"
   ]
  },
  {
   "cell_type": "code",
   "execution_count": 14,
   "metadata": {},
   "outputs": [
    {
     "data": {
      "text/html": [
       "<div>\n",
       "<style>\n",
       "    .dataframe thead tr:only-child th {\n",
       "        text-align: right;\n",
       "    }\n",
       "\n",
       "    .dataframe thead th {\n",
       "        text-align: left;\n",
       "    }\n",
       "\n",
       "    .dataframe tbody tr th {\n",
       "        vertical-align: top;\n",
       "    }\n",
       "</style>\n",
       "<table border=\"1\" class=\"dataframe\">\n",
       "  <thead>\n",
       "    <tr style=\"text-align: right;\">\n",
       "      <th></th>\n",
       "      <th>Distance</th>\n",
       "      <th>Postcode</th>\n",
       "      <th>Bedroom</th>\n",
       "      <th>Bathroom</th>\n",
       "      <th>Car</th>\n",
       "      <th>Landsize</th>\n",
       "      <th>BuildingArea</th>\n",
       "      <th>YearBuilt</th>\n",
       "      <th>CouncilArea</th>\n",
       "      <th>Latitude</th>\n",
       "      <th>Longtitude</th>\n",
       "      <th>Propertycount</th>\n",
       "      <th>Price</th>\n",
       "    </tr>\n",
       "  </thead>\n",
       "  <tbody>\n",
       "    <tr>\n",
       "      <th>11</th>\n",
       "      <td>11.1</td>\n",
       "      <td>3025</td>\n",
       "      <td>NaN</td>\n",
       "      <td>NaN</td>\n",
       "      <td>NaN</td>\n",
       "      <td>NaN</td>\n",
       "      <td>NaN</td>\n",
       "      <td>NaN</td>\n",
       "      <td>Hobsons Bay City Council</td>\n",
       "      <td>NaN</td>\n",
       "      <td>NaN</td>\n",
       "      <td>5132.0</td>\n",
       "      <td>857500.0</td>\n",
       "    </tr>\n",
       "    <tr>\n",
       "      <th>17</th>\n",
       "      <td>11.0</td>\n",
       "      <td>3147</td>\n",
       "      <td>NaN</td>\n",
       "      <td>NaN</td>\n",
       "      <td>NaN</td>\n",
       "      <td>NaN</td>\n",
       "      <td>NaN</td>\n",
       "      <td>NaN</td>\n",
       "      <td>Boroondara City Council</td>\n",
       "      <td>NaN</td>\n",
       "      <td>NaN</td>\n",
       "      <td>3052.0</td>\n",
       "      <td>1820000.0</td>\n",
       "    </tr>\n",
       "    <tr>\n",
       "      <th>20</th>\n",
       "      <td>10.5</td>\n",
       "      <td>3034</td>\n",
       "      <td>NaN</td>\n",
       "      <td>NaN</td>\n",
       "      <td>NaN</td>\n",
       "      <td>NaN</td>\n",
       "      <td>NaN</td>\n",
       "      <td>NaN</td>\n",
       "      <td>Moonee Valley City Council</td>\n",
       "      <td>NaN</td>\n",
       "      <td>NaN</td>\n",
       "      <td>4502.0</td>\n",
       "      <td>1310000.0</td>\n",
       "    </tr>\n",
       "    <tr>\n",
       "      <th>32</th>\n",
       "      <td>9.2</td>\n",
       "      <td>3104</td>\n",
       "      <td>NaN</td>\n",
       "      <td>NaN</td>\n",
       "      <td>NaN</td>\n",
       "      <td>NaN</td>\n",
       "      <td>NaN</td>\n",
       "      <td>NaN</td>\n",
       "      <td>Boroondara City Council</td>\n",
       "      <td>NaN</td>\n",
       "      <td>NaN</td>\n",
       "      <td>7809.0</td>\n",
       "      <td>1450000.0</td>\n",
       "    </tr>\n",
       "    <tr>\n",
       "      <th>33</th>\n",
       "      <td>9.2</td>\n",
       "      <td>3104</td>\n",
       "      <td>NaN</td>\n",
       "      <td>NaN</td>\n",
       "      <td>NaN</td>\n",
       "      <td>NaN</td>\n",
       "      <td>NaN</td>\n",
       "      <td>NaN</td>\n",
       "      <td>Boroondara City Council</td>\n",
       "      <td>NaN</td>\n",
       "      <td>NaN</td>\n",
       "      <td>7809.0</td>\n",
       "      <td>1305000.0</td>\n",
       "    </tr>\n",
       "  </tbody>\n",
       "</table>\n",
       "</div>"
      ],
      "text/plain": [
       "    Distance Postcode  Bedroom  Bathroom  Car  Landsize  BuildingArea  \\\n",
       "11      11.1     3025      NaN       NaN  NaN       NaN           NaN   \n",
       "17      11.0     3147      NaN       NaN  NaN       NaN           NaN   \n",
       "20      10.5     3034      NaN       NaN  NaN       NaN           NaN   \n",
       "32       9.2     3104      NaN       NaN  NaN       NaN           NaN   \n",
       "33       9.2     3104      NaN       NaN  NaN       NaN           NaN   \n",
       "\n",
       "   YearBuilt                 CouncilArea Latitude Longtitude  Propertycount  \\\n",
       "11       NaN    Hobsons Bay City Council      NaN        NaN         5132.0   \n",
       "17       NaN     Boroondara City Council      NaN        NaN         3052.0   \n",
       "20       NaN  Moonee Valley City Council      NaN        NaN         4502.0   \n",
       "32       NaN     Boroondara City Council      NaN        NaN         7809.0   \n",
       "33       NaN     Boroondara City Council      NaN        NaN         7809.0   \n",
       "\n",
       "        Price  \n",
       "11   857500.0  \n",
       "17  1820000.0  \n",
       "20  1310000.0  \n",
       "32  1450000.0  \n",
       "33  1305000.0  "
      ]
     },
     "execution_count": 14,
     "metadata": {},
     "output_type": "execute_result"
    }
   ],
   "source": [
    "df[df[\"Bedroom\"].isnull()][missing_values].head(5)"
   ]
  },
  {
   "cell_type": "code",
   "execution_count": 15,
   "metadata": {
    "collapsed": true
   },
   "outputs": [],
   "source": [
    "df['Bedroom'] = df['Bedroom'].fillna(df['Bedroom'].median()).astype(int)"
   ]
  },
  {
   "cell_type": "code",
   "execution_count": 16,
   "metadata": {},
   "outputs": [
    {
     "data": {
      "text/html": [
       "<div>\n",
       "<style>\n",
       "    .dataframe thead tr:only-child th {\n",
       "        text-align: right;\n",
       "    }\n",
       "\n",
       "    .dataframe thead th {\n",
       "        text-align: left;\n",
       "    }\n",
       "\n",
       "    .dataframe tbody tr th {\n",
       "        vertical-align: top;\n",
       "    }\n",
       "</style>\n",
       "<table border=\"1\" class=\"dataframe\">\n",
       "  <thead>\n",
       "    <tr style=\"text-align: right;\">\n",
       "      <th></th>\n",
       "      <th>Distance</th>\n",
       "      <th>Postcode</th>\n",
       "      <th>Bedroom</th>\n",
       "      <th>Bathroom</th>\n",
       "      <th>Car</th>\n",
       "      <th>Landsize</th>\n",
       "      <th>BuildingArea</th>\n",
       "      <th>YearBuilt</th>\n",
       "      <th>CouncilArea</th>\n",
       "      <th>Latitude</th>\n",
       "      <th>Longtitude</th>\n",
       "      <th>Propertycount</th>\n",
       "      <th>Price</th>\n",
       "    </tr>\n",
       "  </thead>\n",
       "  <tbody>\n",
       "  </tbody>\n",
       "</table>\n",
       "</div>"
      ],
      "text/plain": [
       "Empty DataFrame\n",
       "Columns: [Distance, Postcode, Bedroom, Bathroom, Car, Landsize, BuildingArea, YearBuilt, CouncilArea, Latitude, Longtitude, Propertycount, Price]\n",
       "Index: []"
      ]
     },
     "execution_count": 16,
     "metadata": {},
     "output_type": "execute_result"
    }
   ],
   "source": [
    "df[df[\"Bedroom\"].isnull()][missing_values].head(5)"
   ]
  },
  {
   "cell_type": "markdown",
   "metadata": {},
   "source": [
    "#### Replace with mean"
   ]
  },
  {
   "cell_type": "code",
   "execution_count": 17,
   "metadata": {},
   "outputs": [
    {
     "data": {
      "text/html": [
       "<div>\n",
       "<style>\n",
       "    .dataframe thead tr:only-child th {\n",
       "        text-align: right;\n",
       "    }\n",
       "\n",
       "    .dataframe thead th {\n",
       "        text-align: left;\n",
       "    }\n",
       "\n",
       "    .dataframe tbody tr th {\n",
       "        vertical-align: top;\n",
       "    }\n",
       "</style>\n",
       "<table border=\"1\" class=\"dataframe\">\n",
       "  <thead>\n",
       "    <tr style=\"text-align: right;\">\n",
       "      <th></th>\n",
       "      <th>Distance</th>\n",
       "      <th>Postcode</th>\n",
       "      <th>Bedroom</th>\n",
       "      <th>Bathroom</th>\n",
       "      <th>Car</th>\n",
       "      <th>Landsize</th>\n",
       "      <th>BuildingArea</th>\n",
       "      <th>YearBuilt</th>\n",
       "      <th>CouncilArea</th>\n",
       "      <th>Latitude</th>\n",
       "      <th>Longtitude</th>\n",
       "      <th>Propertycount</th>\n",
       "      <th>Price</th>\n",
       "    </tr>\n",
       "  </thead>\n",
       "  <tbody>\n",
       "    <tr>\n",
       "      <th>11</th>\n",
       "      <td>11.1</td>\n",
       "      <td>3025</td>\n",
       "      <td>3</td>\n",
       "      <td>NaN</td>\n",
       "      <td>NaN</td>\n",
       "      <td>NaN</td>\n",
       "      <td>NaN</td>\n",
       "      <td>NaN</td>\n",
       "      <td>Hobsons Bay City Council</td>\n",
       "      <td>NaN</td>\n",
       "      <td>NaN</td>\n",
       "      <td>5132.0</td>\n",
       "      <td>857500.0</td>\n",
       "    </tr>\n",
       "    <tr>\n",
       "      <th>17</th>\n",
       "      <td>11.0</td>\n",
       "      <td>3147</td>\n",
       "      <td>3</td>\n",
       "      <td>NaN</td>\n",
       "      <td>NaN</td>\n",
       "      <td>NaN</td>\n",
       "      <td>NaN</td>\n",
       "      <td>NaN</td>\n",
       "      <td>Boroondara City Council</td>\n",
       "      <td>NaN</td>\n",
       "      <td>NaN</td>\n",
       "      <td>3052.0</td>\n",
       "      <td>1820000.0</td>\n",
       "    </tr>\n",
       "    <tr>\n",
       "      <th>20</th>\n",
       "      <td>10.5</td>\n",
       "      <td>3034</td>\n",
       "      <td>3</td>\n",
       "      <td>NaN</td>\n",
       "      <td>NaN</td>\n",
       "      <td>NaN</td>\n",
       "      <td>NaN</td>\n",
       "      <td>NaN</td>\n",
       "      <td>Moonee Valley City Council</td>\n",
       "      <td>NaN</td>\n",
       "      <td>NaN</td>\n",
       "      <td>4502.0</td>\n",
       "      <td>1310000.0</td>\n",
       "    </tr>\n",
       "    <tr>\n",
       "      <th>32</th>\n",
       "      <td>9.2</td>\n",
       "      <td>3104</td>\n",
       "      <td>3</td>\n",
       "      <td>NaN</td>\n",
       "      <td>NaN</td>\n",
       "      <td>NaN</td>\n",
       "      <td>NaN</td>\n",
       "      <td>NaN</td>\n",
       "      <td>Boroondara City Council</td>\n",
       "      <td>NaN</td>\n",
       "      <td>NaN</td>\n",
       "      <td>7809.0</td>\n",
       "      <td>1450000.0</td>\n",
       "    </tr>\n",
       "    <tr>\n",
       "      <th>33</th>\n",
       "      <td>9.2</td>\n",
       "      <td>3104</td>\n",
       "      <td>3</td>\n",
       "      <td>NaN</td>\n",
       "      <td>NaN</td>\n",
       "      <td>NaN</td>\n",
       "      <td>NaN</td>\n",
       "      <td>NaN</td>\n",
       "      <td>Boroondara City Council</td>\n",
       "      <td>NaN</td>\n",
       "      <td>NaN</td>\n",
       "      <td>7809.0</td>\n",
       "      <td>1305000.0</td>\n",
       "    </tr>\n",
       "  </tbody>\n",
       "</table>\n",
       "</div>"
      ],
      "text/plain": [
       "    Distance Postcode  Bedroom  Bathroom  Car  Landsize  BuildingArea  \\\n",
       "11      11.1     3025        3       NaN  NaN       NaN           NaN   \n",
       "17      11.0     3147        3       NaN  NaN       NaN           NaN   \n",
       "20      10.5     3034        3       NaN  NaN       NaN           NaN   \n",
       "32       9.2     3104        3       NaN  NaN       NaN           NaN   \n",
       "33       9.2     3104        3       NaN  NaN       NaN           NaN   \n",
       "\n",
       "   YearBuilt                 CouncilArea Latitude Longtitude  Propertycount  \\\n",
       "11       NaN    Hobsons Bay City Council      NaN        NaN         5132.0   \n",
       "17       NaN     Boroondara City Council      NaN        NaN         3052.0   \n",
       "20       NaN  Moonee Valley City Council      NaN        NaN         4502.0   \n",
       "32       NaN     Boroondara City Council      NaN        NaN         7809.0   \n",
       "33       NaN     Boroondara City Council      NaN        NaN         7809.0   \n",
       "\n",
       "        Price  \n",
       "11   857500.0  \n",
       "17  1820000.0  \n",
       "20  1310000.0  \n",
       "32  1450000.0  \n",
       "33  1305000.0  "
      ]
     },
     "execution_count": 17,
     "metadata": {},
     "output_type": "execute_result"
    }
   ],
   "source": [
    "df[df[\"Bathroom\"].isnull()][missing_values].head(5)"
   ]
  },
  {
   "cell_type": "code",
   "execution_count": 18,
   "metadata": {
    "collapsed": true
   },
   "outputs": [],
   "source": [
    "df['Bathroom'] = df['Bathroom'].fillna(df['Bathroom'].mean()).astype(int)"
   ]
  },
  {
   "cell_type": "code",
   "execution_count": 19,
   "metadata": {},
   "outputs": [
    {
     "data": {
      "text/html": [
       "<div>\n",
       "<style>\n",
       "    .dataframe thead tr:only-child th {\n",
       "        text-align: right;\n",
       "    }\n",
       "\n",
       "    .dataframe thead th {\n",
       "        text-align: left;\n",
       "    }\n",
       "\n",
       "    .dataframe tbody tr th {\n",
       "        vertical-align: top;\n",
       "    }\n",
       "</style>\n",
       "<table border=\"1\" class=\"dataframe\">\n",
       "  <thead>\n",
       "    <tr style=\"text-align: right;\">\n",
       "      <th></th>\n",
       "      <th>Distance</th>\n",
       "      <th>Postcode</th>\n",
       "      <th>Bedroom</th>\n",
       "      <th>Bathroom</th>\n",
       "      <th>Car</th>\n",
       "      <th>Landsize</th>\n",
       "      <th>BuildingArea</th>\n",
       "      <th>YearBuilt</th>\n",
       "      <th>CouncilArea</th>\n",
       "      <th>Latitude</th>\n",
       "      <th>Longtitude</th>\n",
       "      <th>Propertycount</th>\n",
       "      <th>Price</th>\n",
       "    </tr>\n",
       "  </thead>\n",
       "  <tbody>\n",
       "  </tbody>\n",
       "</table>\n",
       "</div>"
      ],
      "text/plain": [
       "Empty DataFrame\n",
       "Columns: [Distance, Postcode, Bedroom, Bathroom, Car, Landsize, BuildingArea, YearBuilt, CouncilArea, Latitude, Longtitude, Propertycount, Price]\n",
       "Index: []"
      ]
     },
     "execution_count": 19,
     "metadata": {},
     "output_type": "execute_result"
    }
   ],
   "source": [
    "df[df[\"Bathroom\"].isnull()][missing_values].head(5)"
   ]
  },
  {
   "cell_type": "markdown",
   "metadata": {},
   "source": [
    "#### Replace with zero"
   ]
  },
  {
   "cell_type": "code",
   "execution_count": 20,
   "metadata": {},
   "outputs": [
    {
     "data": {
      "text/html": [
       "<div>\n",
       "<style>\n",
       "    .dataframe thead tr:only-child th {\n",
       "        text-align: right;\n",
       "    }\n",
       "\n",
       "    .dataframe thead th {\n",
       "        text-align: left;\n",
       "    }\n",
       "\n",
       "    .dataframe tbody tr th {\n",
       "        vertical-align: top;\n",
       "    }\n",
       "</style>\n",
       "<table border=\"1\" class=\"dataframe\">\n",
       "  <thead>\n",
       "    <tr style=\"text-align: right;\">\n",
       "      <th></th>\n",
       "      <th>Distance</th>\n",
       "      <th>Postcode</th>\n",
       "      <th>Bedroom</th>\n",
       "      <th>Bathroom</th>\n",
       "      <th>Car</th>\n",
       "      <th>Landsize</th>\n",
       "      <th>BuildingArea</th>\n",
       "      <th>YearBuilt</th>\n",
       "      <th>CouncilArea</th>\n",
       "      <th>Latitude</th>\n",
       "      <th>Longtitude</th>\n",
       "      <th>Propertycount</th>\n",
       "      <th>Price</th>\n",
       "    </tr>\n",
       "  </thead>\n",
       "  <tbody>\n",
       "    <tr>\n",
       "      <th>11</th>\n",
       "      <td>11.1</td>\n",
       "      <td>3025</td>\n",
       "      <td>3</td>\n",
       "      <td>1</td>\n",
       "      <td>NaN</td>\n",
       "      <td>NaN</td>\n",
       "      <td>NaN</td>\n",
       "      <td>NaN</td>\n",
       "      <td>Hobsons Bay City Council</td>\n",
       "      <td>NaN</td>\n",
       "      <td>NaN</td>\n",
       "      <td>5132.0</td>\n",
       "      <td>857500.0</td>\n",
       "    </tr>\n",
       "    <tr>\n",
       "      <th>17</th>\n",
       "      <td>11.0</td>\n",
       "      <td>3147</td>\n",
       "      <td>3</td>\n",
       "      <td>1</td>\n",
       "      <td>NaN</td>\n",
       "      <td>NaN</td>\n",
       "      <td>NaN</td>\n",
       "      <td>NaN</td>\n",
       "      <td>Boroondara City Council</td>\n",
       "      <td>NaN</td>\n",
       "      <td>NaN</td>\n",
       "      <td>3052.0</td>\n",
       "      <td>1820000.0</td>\n",
       "    </tr>\n",
       "    <tr>\n",
       "      <th>20</th>\n",
       "      <td>10.5</td>\n",
       "      <td>3034</td>\n",
       "      <td>3</td>\n",
       "      <td>1</td>\n",
       "      <td>NaN</td>\n",
       "      <td>NaN</td>\n",
       "      <td>NaN</td>\n",
       "      <td>NaN</td>\n",
       "      <td>Moonee Valley City Council</td>\n",
       "      <td>NaN</td>\n",
       "      <td>NaN</td>\n",
       "      <td>4502.0</td>\n",
       "      <td>1310000.0</td>\n",
       "    </tr>\n",
       "    <tr>\n",
       "      <th>32</th>\n",
       "      <td>9.2</td>\n",
       "      <td>3104</td>\n",
       "      <td>3</td>\n",
       "      <td>1</td>\n",
       "      <td>NaN</td>\n",
       "      <td>NaN</td>\n",
       "      <td>NaN</td>\n",
       "      <td>NaN</td>\n",
       "      <td>Boroondara City Council</td>\n",
       "      <td>NaN</td>\n",
       "      <td>NaN</td>\n",
       "      <td>7809.0</td>\n",
       "      <td>1450000.0</td>\n",
       "    </tr>\n",
       "    <tr>\n",
       "      <th>33</th>\n",
       "      <td>9.2</td>\n",
       "      <td>3104</td>\n",
       "      <td>3</td>\n",
       "      <td>1</td>\n",
       "      <td>NaN</td>\n",
       "      <td>NaN</td>\n",
       "      <td>NaN</td>\n",
       "      <td>NaN</td>\n",
       "      <td>Boroondara City Council</td>\n",
       "      <td>NaN</td>\n",
       "      <td>NaN</td>\n",
       "      <td>7809.0</td>\n",
       "      <td>1305000.0</td>\n",
       "    </tr>\n",
       "  </tbody>\n",
       "</table>\n",
       "</div>"
      ],
      "text/plain": [
       "    Distance Postcode  Bedroom  Bathroom  Car  Landsize  BuildingArea  \\\n",
       "11      11.1     3025        3         1  NaN       NaN           NaN   \n",
       "17      11.0     3147        3         1  NaN       NaN           NaN   \n",
       "20      10.5     3034        3         1  NaN       NaN           NaN   \n",
       "32       9.2     3104        3         1  NaN       NaN           NaN   \n",
       "33       9.2     3104        3         1  NaN       NaN           NaN   \n",
       "\n",
       "   YearBuilt                 CouncilArea Latitude Longtitude  Propertycount  \\\n",
       "11       NaN    Hobsons Bay City Council      NaN        NaN         5132.0   \n",
       "17       NaN     Boroondara City Council      NaN        NaN         3052.0   \n",
       "20       NaN  Moonee Valley City Council      NaN        NaN         4502.0   \n",
       "32       NaN     Boroondara City Council      NaN        NaN         7809.0   \n",
       "33       NaN     Boroondara City Council      NaN        NaN         7809.0   \n",
       "\n",
       "        Price  \n",
       "11   857500.0  \n",
       "17  1820000.0  \n",
       "20  1310000.0  \n",
       "32  1450000.0  \n",
       "33  1305000.0  "
      ]
     },
     "execution_count": 20,
     "metadata": {},
     "output_type": "execute_result"
    }
   ],
   "source": [
    "df[df[\"Car\"].isnull()][missing_values].head(5)"
   ]
  },
  {
   "cell_type": "code",
   "execution_count": 21,
   "metadata": {
    "collapsed": true
   },
   "outputs": [],
   "source": [
    "df['Car'] = df['Car'].fillna(0).astype(int)"
   ]
  },
  {
   "cell_type": "code",
   "execution_count": 22,
   "metadata": {},
   "outputs": [
    {
     "data": {
      "text/html": [
       "<div>\n",
       "<style>\n",
       "    .dataframe thead tr:only-child th {\n",
       "        text-align: right;\n",
       "    }\n",
       "\n",
       "    .dataframe thead th {\n",
       "        text-align: left;\n",
       "    }\n",
       "\n",
       "    .dataframe tbody tr th {\n",
       "        vertical-align: top;\n",
       "    }\n",
       "</style>\n",
       "<table border=\"1\" class=\"dataframe\">\n",
       "  <thead>\n",
       "    <tr style=\"text-align: right;\">\n",
       "      <th></th>\n",
       "      <th>Distance</th>\n",
       "      <th>Postcode</th>\n",
       "      <th>Bedroom</th>\n",
       "      <th>Bathroom</th>\n",
       "      <th>Car</th>\n",
       "      <th>Landsize</th>\n",
       "      <th>BuildingArea</th>\n",
       "      <th>YearBuilt</th>\n",
       "      <th>CouncilArea</th>\n",
       "      <th>Latitude</th>\n",
       "      <th>Longtitude</th>\n",
       "      <th>Propertycount</th>\n",
       "      <th>Price</th>\n",
       "    </tr>\n",
       "  </thead>\n",
       "  <tbody>\n",
       "  </tbody>\n",
       "</table>\n",
       "</div>"
      ],
      "text/plain": [
       "Empty DataFrame\n",
       "Columns: [Distance, Postcode, Bedroom, Bathroom, Car, Landsize, BuildingArea, YearBuilt, CouncilArea, Latitude, Longtitude, Propertycount, Price]\n",
       "Index: []"
      ]
     },
     "execution_count": 22,
     "metadata": {},
     "output_type": "execute_result"
    }
   ],
   "source": [
    "df[df[\"Car\"].isnull()][missing_values].head(5)"
   ]
  },
  {
   "cell_type": "markdown",
   "metadata": {},
   "source": [
    "### Method 3: Random replace"
   ]
  },
  {
   "cell_type": "code",
   "execution_count": 23,
   "metadata": {},
   "outputs": [
    {
     "data": {
      "text/html": [
       "<div>\n",
       "<style>\n",
       "    .dataframe thead tr:only-child th {\n",
       "        text-align: right;\n",
       "    }\n",
       "\n",
       "    .dataframe thead th {\n",
       "        text-align: left;\n",
       "    }\n",
       "\n",
       "    .dataframe tbody tr th {\n",
       "        vertical-align: top;\n",
       "    }\n",
       "</style>\n",
       "<table border=\"1\" class=\"dataframe\">\n",
       "  <thead>\n",
       "    <tr style=\"text-align: right;\">\n",
       "      <th></th>\n",
       "      <th>Distance</th>\n",
       "      <th>Postcode</th>\n",
       "      <th>Bedroom</th>\n",
       "      <th>Bathroom</th>\n",
       "      <th>Car</th>\n",
       "      <th>Landsize</th>\n",
       "      <th>BuildingArea</th>\n",
       "      <th>YearBuilt</th>\n",
       "      <th>CouncilArea</th>\n",
       "      <th>Latitude</th>\n",
       "      <th>Longtitude</th>\n",
       "      <th>Propertycount</th>\n",
       "      <th>Price</th>\n",
       "    </tr>\n",
       "  </thead>\n",
       "  <tbody>\n",
       "    <tr>\n",
       "      <th>10019</th>\n",
       "      <td>7.7</td>\n",
       "      <td>3124</td>\n",
       "      <td>3</td>\n",
       "      <td>1</td>\n",
       "      <td>0</td>\n",
       "      <td>NaN</td>\n",
       "      <td>NaN</td>\n",
       "      <td>NaN</td>\n",
       "      <td>NaN</td>\n",
       "      <td>NaN</td>\n",
       "      <td>NaN</td>\n",
       "      <td>NaN</td>\n",
       "      <td>825000.0</td>\n",
       "    </tr>\n",
       "    <tr>\n",
       "      <th>15180</th>\n",
       "      <td>5.1</td>\n",
       "      <td>3011</td>\n",
       "      <td>3</td>\n",
       "      <td>1</td>\n",
       "      <td>0</td>\n",
       "      <td>NaN</td>\n",
       "      <td>NaN</td>\n",
       "      <td>NaN</td>\n",
       "      <td>NaN</td>\n",
       "      <td>NaN</td>\n",
       "      <td>NaN</td>\n",
       "      <td>NaN</td>\n",
       "      <td>710000.0</td>\n",
       "    </tr>\n",
       "  </tbody>\n",
       "</table>\n",
       "</div>"
      ],
      "text/plain": [
       "       Distance Postcode  Bedroom  Bathroom  Car  Landsize  BuildingArea  \\\n",
       "10019       7.7     3124        3         1    0       NaN           NaN   \n",
       "15180       5.1     3011        3         1    0       NaN           NaN   \n",
       "\n",
       "      YearBuilt CouncilArea Latitude Longtitude  Propertycount     Price  \n",
       "10019       NaN         NaN      NaN        NaN            NaN  825000.0  \n",
       "15180       NaN         NaN      NaN        NaN            NaN  710000.0  "
      ]
     },
     "execution_count": 23,
     "metadata": {},
     "output_type": "execute_result"
    }
   ],
   "source": [
    "df[df[\"CouncilArea\"].isnull()][missing_values].head(5)"
   ]
  },
  {
   "cell_type": "code",
   "execution_count": 24,
   "metadata": {
    "collapsed": true
   },
   "outputs": [],
   "source": [
    "df[\"CouncilArea\"].fillna(lambda x: random.choice(df[df[column] != np.nan][\"CouncilArea\"]), inplace =True)"
   ]
  },
  {
   "cell_type": "code",
   "execution_count": 25,
   "metadata": {},
   "outputs": [
    {
     "data": {
      "text/html": [
       "<div>\n",
       "<style>\n",
       "    .dataframe thead tr:only-child th {\n",
       "        text-align: right;\n",
       "    }\n",
       "\n",
       "    .dataframe thead th {\n",
       "        text-align: left;\n",
       "    }\n",
       "\n",
       "    .dataframe tbody tr th {\n",
       "        vertical-align: top;\n",
       "    }\n",
       "</style>\n",
       "<table border=\"1\" class=\"dataframe\">\n",
       "  <thead>\n",
       "    <tr style=\"text-align: right;\">\n",
       "      <th></th>\n",
       "      <th>Distance</th>\n",
       "      <th>Postcode</th>\n",
       "      <th>Bedroom</th>\n",
       "      <th>Bathroom</th>\n",
       "      <th>Car</th>\n",
       "      <th>Landsize</th>\n",
       "      <th>BuildingArea</th>\n",
       "      <th>YearBuilt</th>\n",
       "      <th>CouncilArea</th>\n",
       "      <th>Latitude</th>\n",
       "      <th>Longtitude</th>\n",
       "      <th>Propertycount</th>\n",
       "      <th>Price</th>\n",
       "    </tr>\n",
       "  </thead>\n",
       "  <tbody>\n",
       "  </tbody>\n",
       "</table>\n",
       "</div>"
      ],
      "text/plain": [
       "Empty DataFrame\n",
       "Columns: [Distance, Postcode, Bedroom, Bathroom, Car, Landsize, BuildingArea, YearBuilt, CouncilArea, Latitude, Longtitude, Propertycount, Price]\n",
       "Index: []"
      ]
     },
     "execution_count": 25,
     "metadata": {},
     "output_type": "execute_result"
    }
   ],
   "source": [
    "df[df[\"CouncilArea\"].isnull()][missing_values].head(5)"
   ]
  },
  {
   "cell_type": "markdown",
   "metadata": {},
   "source": [
    "Randomly replace missing data only if the variable is insignificant for model building."
   ]
  },
  {
   "cell_type": "markdown",
   "metadata": {},
   "source": [
    "### Method 4: Forward Filling"
   ]
  },
  {
   "cell_type": "markdown",
   "metadata": {},
   "source": [
    "Fill NA with the value from previous cell"
   ]
  },
  {
   "cell_type": "code",
   "execution_count": 26,
   "metadata": {},
   "outputs": [
    {
     "data": {
      "text/plain": [
       "0     126.0\n",
       "1     303.0\n",
       "2     120.0\n",
       "3     159.0\n",
       "4     174.0\n",
       "5     853.0\n",
       "6     208.0\n",
       "7     352.0\n",
       "8     620.0\n",
       "9     592.0\n",
       "10    533.0\n",
       "11      NaN\n",
       "12    305.0\n",
       "Name: Landsize, dtype: float64"
      ]
     },
     "execution_count": 26,
     "metadata": {},
     "output_type": "execute_result"
    }
   ],
   "source": [
    "df[\"Landsize\"].head(13)"
   ]
  },
  {
   "cell_type": "code",
   "execution_count": 27,
   "metadata": {},
   "outputs": [
    {
     "data": {
      "text/plain": [
       "0     126.0\n",
       "1     303.0\n",
       "2     120.0\n",
       "3     159.0\n",
       "4     174.0\n",
       "5     853.0\n",
       "6     208.0\n",
       "7     352.0\n",
       "8     620.0\n",
       "9     592.0\n",
       "10    533.0\n",
       "11    533.0\n",
       "12    305.0\n",
       "Name: Landsize, dtype: float64"
      ]
     },
     "execution_count": 27,
     "metadata": {},
     "output_type": "execute_result"
    }
   ],
   "source": [
    "df[\"Landsize\"].ffill().head(13)"
   ]
  },
  {
   "cell_type": "markdown",
   "metadata": {},
   "source": [
    "### Method 5: Backward Filling"
   ]
  },
  {
   "cell_type": "markdown",
   "metadata": {},
   "source": [
    "Fill NA with the value from next cell"
   ]
  },
  {
   "cell_type": "code",
   "execution_count": 28,
   "metadata": {},
   "outputs": [
    {
     "data": {
      "text/plain": [
       "0     126.0\n",
       "1     303.0\n",
       "2     120.0\n",
       "3     159.0\n",
       "4     174.0\n",
       "5     853.0\n",
       "6     208.0\n",
       "7     352.0\n",
       "8     620.0\n",
       "9     592.0\n",
       "10    533.0\n",
       "11    305.0\n",
       "12    305.0\n",
       "Name: Landsize, dtype: float64"
      ]
     },
     "execution_count": 28,
     "metadata": {},
     "output_type": "execute_result"
    }
   ],
   "source": [
    "df[\"Landsize\"].bfill().head(13)"
   ]
  },
  {
   "cell_type": "markdown",
   "metadata": {},
   "source": [
    "### Method 6: Using predictive model"
   ]
  },
  {
   "cell_type": "markdown",
   "metadata": {},
   "source": [
    "This is an advanced method where we can train a regression or classification model using the available data and fill the missing values."
   ]
  },
  {
   "cell_type": "code",
   "execution_count": 29,
   "metadata": {},
   "outputs": [
    {
     "data": {
      "text/html": [
       "<div>\n",
       "<style>\n",
       "    .dataframe thead tr:only-child th {\n",
       "        text-align: right;\n",
       "    }\n",
       "\n",
       "    .dataframe thead th {\n",
       "        text-align: left;\n",
       "    }\n",
       "\n",
       "    .dataframe tbody tr th {\n",
       "        vertical-align: top;\n",
       "    }\n",
       "</style>\n",
       "<table border=\"1\" class=\"dataframe\">\n",
       "  <thead>\n",
       "    <tr style=\"text-align: right;\">\n",
       "      <th></th>\n",
       "      <th>Distance</th>\n",
       "      <th>Postcode</th>\n",
       "      <th>Bedroom</th>\n",
       "      <th>Bathroom</th>\n",
       "      <th>Car</th>\n",
       "      <th>Landsize</th>\n",
       "      <th>BuildingArea</th>\n",
       "      <th>YearBuilt</th>\n",
       "      <th>CouncilArea</th>\n",
       "      <th>Latitude</th>\n",
       "      <th>Longtitude</th>\n",
       "      <th>Propertycount</th>\n",
       "      <th>Price</th>\n",
       "    </tr>\n",
       "  </thead>\n",
       "  <tbody>\n",
       "    <tr>\n",
       "      <th>0</th>\n",
       "      <td>2.5</td>\n",
       "      <td>3067</td>\n",
       "      <td>2</td>\n",
       "      <td>1</td>\n",
       "      <td>1</td>\n",
       "      <td>126.0</td>\n",
       "      <td>NaN</td>\n",
       "      <td>NaN</td>\n",
       "      <td>Yarra City Council</td>\n",
       "      <td>-37.8014</td>\n",
       "      <td>144.996</td>\n",
       "      <td>4019.0</td>\n",
       "      <td>NaN</td>\n",
       "    </tr>\n",
       "    <tr>\n",
       "      <th>3</th>\n",
       "      <td>3.3</td>\n",
       "      <td>3206</td>\n",
       "      <td>2</td>\n",
       "      <td>1</td>\n",
       "      <td>0</td>\n",
       "      <td>159.0</td>\n",
       "      <td>NaN</td>\n",
       "      <td>NaN</td>\n",
       "      <td>Port Phillip City Council</td>\n",
       "      <td>-37.845</td>\n",
       "      <td>144.954</td>\n",
       "      <td>3280.0</td>\n",
       "      <td>1455000.0</td>\n",
       "    </tr>\n",
       "    <tr>\n",
       "      <th>6</th>\n",
       "      <td>6.4</td>\n",
       "      <td>3078</td>\n",
       "      <td>3</td>\n",
       "      <td>2</td>\n",
       "      <td>2</td>\n",
       "      <td>208.0</td>\n",
       "      <td>NaN</td>\n",
       "      <td>2013</td>\n",
       "      <td>Darebin City Council</td>\n",
       "      <td>-37.7854</td>\n",
       "      <td>145.032</td>\n",
       "      <td>2211.0</td>\n",
       "      <td>1110000.0</td>\n",
       "    </tr>\n",
       "    <tr>\n",
       "      <th>11</th>\n",
       "      <td>11.1</td>\n",
       "      <td>3025</td>\n",
       "      <td>3</td>\n",
       "      <td>1</td>\n",
       "      <td>0</td>\n",
       "      <td>NaN</td>\n",
       "      <td>NaN</td>\n",
       "      <td>NaN</td>\n",
       "      <td>Hobsons Bay City Council</td>\n",
       "      <td>NaN</td>\n",
       "      <td>NaN</td>\n",
       "      <td>5132.0</td>\n",
       "      <td>857500.0</td>\n",
       "    </tr>\n",
       "    <tr>\n",
       "      <th>12</th>\n",
       "      <td>6.3</td>\n",
       "      <td>3143</td>\n",
       "      <td>2</td>\n",
       "      <td>1</td>\n",
       "      <td>1</td>\n",
       "      <td>305.0</td>\n",
       "      <td>NaN</td>\n",
       "      <td>NaN</td>\n",
       "      <td>Stonnington City Council</td>\n",
       "      <td>-37.8573</td>\n",
       "      <td>145.023</td>\n",
       "      <td>4836.0</td>\n",
       "      <td>NaN</td>\n",
       "    </tr>\n",
       "  </tbody>\n",
       "</table>\n",
       "</div>"
      ],
      "text/plain": [
       "    Distance Postcode  Bedroom  Bathroom  Car  Landsize  BuildingArea  \\\n",
       "0        2.5     3067        2         1    1     126.0           NaN   \n",
       "3        3.3     3206        2         1    0     159.0           NaN   \n",
       "6        6.4     3078        3         2    2     208.0           NaN   \n",
       "11      11.1     3025        3         1    0       NaN           NaN   \n",
       "12       6.3     3143        2         1    1     305.0           NaN   \n",
       "\n",
       "   YearBuilt                CouncilArea Latitude Longtitude  Propertycount  \\\n",
       "0        NaN         Yarra City Council -37.8014    144.996         4019.0   \n",
       "3        NaN  Port Phillip City Council  -37.845    144.954         3280.0   \n",
       "6       2013       Darebin City Council -37.7854    145.032         2211.0   \n",
       "11       NaN   Hobsons Bay City Council      NaN        NaN         5132.0   \n",
       "12       NaN   Stonnington City Council -37.8573    145.023         4836.0   \n",
       "\n",
       "        Price  \n",
       "0         NaN  \n",
       "3   1455000.0  \n",
       "6   1110000.0  \n",
       "11   857500.0  \n",
       "12        NaN  "
      ]
     },
     "execution_count": 29,
     "metadata": {},
     "output_type": "execute_result"
    }
   ],
   "source": [
    "df[df[\"BuildingArea\"].isnull()][missing_values].head(5)"
   ]
  },
  {
   "cell_type": "code",
   "execution_count": 30,
   "metadata": {
    "collapsed": true
   },
   "outputs": [],
   "source": [
    "df['BuildingArea']= df.apply( lambda x: 32.2790907910796 * x.Rooms - 2.423644449 * x.Distance + 0.765268645 * x.Bedroom \\\n",
    "                             + 43.42023608 * x.Bathroom + 15.06554273 * x.Car  - 68.91637997 \\\n",
    "            if np.isnan(x.BuildingArea) else x.BuildingArea, axis=1)\n",
    "df['BuildingArea'] = df['BuildingArea'].astype(int)"
   ]
  },
  {
   "cell_type": "code",
   "execution_count": 31,
   "metadata": {},
   "outputs": [
    {
     "data": {
      "text/html": [
       "<div>\n",
       "<style>\n",
       "    .dataframe thead tr:only-child th {\n",
       "        text-align: right;\n",
       "    }\n",
       "\n",
       "    .dataframe thead th {\n",
       "        text-align: left;\n",
       "    }\n",
       "\n",
       "    .dataframe tbody tr th {\n",
       "        vertical-align: top;\n",
       "    }\n",
       "</style>\n",
       "<table border=\"1\" class=\"dataframe\">\n",
       "  <thead>\n",
       "    <tr style=\"text-align: right;\">\n",
       "      <th></th>\n",
       "      <th>Distance</th>\n",
       "      <th>Postcode</th>\n",
       "      <th>Bedroom</th>\n",
       "      <th>Bathroom</th>\n",
       "      <th>Car</th>\n",
       "      <th>Landsize</th>\n",
       "      <th>BuildingArea</th>\n",
       "      <th>YearBuilt</th>\n",
       "      <th>CouncilArea</th>\n",
       "      <th>Latitude</th>\n",
       "      <th>Longtitude</th>\n",
       "      <th>Propertycount</th>\n",
       "      <th>Price</th>\n",
       "    </tr>\n",
       "  </thead>\n",
       "  <tbody>\n",
       "  </tbody>\n",
       "</table>\n",
       "</div>"
      ],
      "text/plain": [
       "Empty DataFrame\n",
       "Columns: [Distance, Postcode, Bedroom, Bathroom, Car, Landsize, BuildingArea, YearBuilt, CouncilArea, Latitude, Longtitude, Propertycount, Price]\n",
       "Index: []"
      ]
     },
     "execution_count": 31,
     "metadata": {},
     "output_type": "execute_result"
    }
   ],
   "source": [
    "df[df[\"BuildingArea\"].isnull()][missing_values].head(5)"
   ]
  },
  {
   "cell_type": "markdown",
   "metadata": {},
   "source": [
    "<html>\n",
    "<font color = Blue size = 4>\n",
    "<b> Handling non-numeric data\n",
    "</b>\n",
    "</font>\n",
    "</html>"
   ]
  },
  {
   "cell_type": "markdown",
   "metadata": {},
   "source": [
    "Most of the machine learning models are designed to work on numeric data. Hence, we need to convert categorical text data into numerical data for model building."
   ]
  },
  {
   "cell_type": "markdown",
   "metadata": {
    "collapsed": true
   },
   "source": [
    "### One Hot Encoding"
   ]
  },
  {
   "cell_type": "markdown",
   "metadata": {
    "collapsed": true
   },
   "source": [
    "One-Hot-Encoding is used to create dummry variables to replace the categories in a categorical variable into features of each category and represent it using 1 or 0 based on the presence or absence of the categorical value in the record."
   ]
  },
  {
   "cell_type": "markdown",
   "metadata": {},
   "source": [
    "#### Pandas Get_Dummies\n",
    "\n",
    "This function does One-Hot-Encoding on categorical text"
   ]
  },
  {
   "cell_type": "code",
   "execution_count": 32,
   "metadata": {
    "collapsed": true
   },
   "outputs": [],
   "source": [
    "df_dummies= pd.get_dummies(df, prefix='Park', columns=['ParkingArea'])"
   ]
  },
  {
   "cell_type": "code",
   "execution_count": 33,
   "metadata": {},
   "outputs": [
    {
     "data": {
      "text/html": [
       "<div>\n",
       "<style>\n",
       "    .dataframe thead tr:only-child th {\n",
       "        text-align: right;\n",
       "    }\n",
       "\n",
       "    .dataframe thead th {\n",
       "        text-align: left;\n",
       "    }\n",
       "\n",
       "    .dataframe tbody tr th {\n",
       "        vertical-align: top;\n",
       "    }\n",
       "</style>\n",
       "<table border=\"1\" class=\"dataframe\">\n",
       "  <thead>\n",
       "    <tr style=\"text-align: right;\">\n",
       "      <th></th>\n",
       "      <th>Suburb</th>\n",
       "      <th>Address</th>\n",
       "      <th>Rooms</th>\n",
       "      <th>Type</th>\n",
       "      <th>Method</th>\n",
       "      <th>SellerG</th>\n",
       "      <th>Date</th>\n",
       "      <th>Distance</th>\n",
       "      <th>Postcode</th>\n",
       "      <th>Bedroom</th>\n",
       "      <th>...</th>\n",
       "      <th>Propertycount</th>\n",
       "      <th>Price</th>\n",
       "      <th>Park_Attached Garage</th>\n",
       "      <th>Park_Carport</th>\n",
       "      <th>Park_Detached Garage</th>\n",
       "      <th>Park_Indoor</th>\n",
       "      <th>Park_Outdoor Stall</th>\n",
       "      <th>Park_Parkade</th>\n",
       "      <th>Park_Parking Pad</th>\n",
       "      <th>Park_Underground</th>\n",
       "    </tr>\n",
       "  </thead>\n",
       "  <tbody>\n",
       "    <tr>\n",
       "      <th>0</th>\n",
       "      <td>Abbotsford</td>\n",
       "      <td>68 Studley St</td>\n",
       "      <td>2</td>\n",
       "      <td>h</td>\n",
       "      <td>SS</td>\n",
       "      <td>Jellis</td>\n",
       "      <td>2016-03-09</td>\n",
       "      <td>2.5</td>\n",
       "      <td>3067</td>\n",
       "      <td>2</td>\n",
       "      <td>...</td>\n",
       "      <td>4019.0</td>\n",
       "      <td>NaN</td>\n",
       "      <td>0</td>\n",
       "      <td>1</td>\n",
       "      <td>0</td>\n",
       "      <td>0</td>\n",
       "      <td>0</td>\n",
       "      <td>0</td>\n",
       "      <td>0</td>\n",
       "      <td>0</td>\n",
       "    </tr>\n",
       "    <tr>\n",
       "      <th>1</th>\n",
       "      <td>Airport West</td>\n",
       "      <td>154 Halsey Rd</td>\n",
       "      <td>3</td>\n",
       "      <td>t</td>\n",
       "      <td>PI</td>\n",
       "      <td>Nelson</td>\n",
       "      <td>2016-03-09</td>\n",
       "      <td>13.5</td>\n",
       "      <td>3042</td>\n",
       "      <td>3</td>\n",
       "      <td>...</td>\n",
       "      <td>3464.0</td>\n",
       "      <td>840000.0</td>\n",
       "      <td>0</td>\n",
       "      <td>0</td>\n",
       "      <td>1</td>\n",
       "      <td>0</td>\n",
       "      <td>0</td>\n",
       "      <td>0</td>\n",
       "      <td>0</td>\n",
       "      <td>0</td>\n",
       "    </tr>\n",
       "    <tr>\n",
       "      <th>2</th>\n",
       "      <td>Albert Park</td>\n",
       "      <td>105 Kerferd Rd</td>\n",
       "      <td>2</td>\n",
       "      <td>h</td>\n",
       "      <td>S</td>\n",
       "      <td>hockingstuart</td>\n",
       "      <td>2016-03-09</td>\n",
       "      <td>3.3</td>\n",
       "      <td>3206</td>\n",
       "      <td>2</td>\n",
       "      <td>...</td>\n",
       "      <td>3280.0</td>\n",
       "      <td>1275000.0</td>\n",
       "      <td>1</td>\n",
       "      <td>0</td>\n",
       "      <td>0</td>\n",
       "      <td>0</td>\n",
       "      <td>0</td>\n",
       "      <td>0</td>\n",
       "      <td>0</td>\n",
       "      <td>0</td>\n",
       "    </tr>\n",
       "    <tr>\n",
       "      <th>3</th>\n",
       "      <td>Albert Park</td>\n",
       "      <td>85 Richardson St</td>\n",
       "      <td>2</td>\n",
       "      <td>h</td>\n",
       "      <td>S</td>\n",
       "      <td>Thomson</td>\n",
       "      <td>2016-03-09</td>\n",
       "      <td>3.3</td>\n",
       "      <td>3206</td>\n",
       "      <td>2</td>\n",
       "      <td>...</td>\n",
       "      <td>3280.0</td>\n",
       "      <td>1455000.0</td>\n",
       "      <td>0</td>\n",
       "      <td>0</td>\n",
       "      <td>0</td>\n",
       "      <td>1</td>\n",
       "      <td>0</td>\n",
       "      <td>0</td>\n",
       "      <td>0</td>\n",
       "      <td>0</td>\n",
       "    </tr>\n",
       "    <tr>\n",
       "      <th>4</th>\n",
       "      <td>Alphington</td>\n",
       "      <td>30 Austin St</td>\n",
       "      <td>3</td>\n",
       "      <td>h</td>\n",
       "      <td>SN</td>\n",
       "      <td>McGrath</td>\n",
       "      <td>2016-03-09</td>\n",
       "      <td>6.4</td>\n",
       "      <td>3078</td>\n",
       "      <td>3</td>\n",
       "      <td>...</td>\n",
       "      <td>2211.0</td>\n",
       "      <td>NaN</td>\n",
       "      <td>0</td>\n",
       "      <td>0</td>\n",
       "      <td>0</td>\n",
       "      <td>0</td>\n",
       "      <td>0</td>\n",
       "      <td>1</td>\n",
       "      <td>0</td>\n",
       "      <td>0</td>\n",
       "    </tr>\n",
       "  </tbody>\n",
       "</table>\n",
       "<p>5 rows × 29 columns</p>\n",
       "</div>"
      ],
      "text/plain": [
       "         Suburb           Address  Rooms Type Method        SellerG  \\\n",
       "0    Abbotsford     68 Studley St      2    h     SS         Jellis   \n",
       "1  Airport West     154 Halsey Rd      3    t     PI         Nelson   \n",
       "2   Albert Park    105 Kerferd Rd      2    h      S  hockingstuart   \n",
       "3   Albert Park  85 Richardson St      2    h      S        Thomson   \n",
       "4    Alphington      30 Austin St      3    h     SN        McGrath   \n",
       "\n",
       "        Date  Distance Postcode  Bedroom        ...         Propertycount  \\\n",
       "0 2016-03-09       2.5     3067        2        ...                4019.0   \n",
       "1 2016-03-09      13.5     3042        3        ...                3464.0   \n",
       "2 2016-03-09       3.3     3206        2        ...                3280.0   \n",
       "3 2016-03-09       3.3     3206        2        ...                3280.0   \n",
       "4 2016-03-09       6.4     3078        3        ...                2211.0   \n",
       "\n",
       "       Price  Park_Attached Garage  Park_Carport Park_Detached Garage  \\\n",
       "0        NaN                     0             1                    0   \n",
       "1   840000.0                     0             0                    1   \n",
       "2  1275000.0                     1             0                    0   \n",
       "3  1455000.0                     0             0                    0   \n",
       "4        NaN                     0             0                    0   \n",
       "\n",
       "  Park_Indoor Park_Outdoor Stall Park_Parkade Park_Parking Pad  \\\n",
       "0           0                  0            0                0   \n",
       "1           0                  0            0                0   \n",
       "2           0                  0            0                0   \n",
       "3           1                  0            0                0   \n",
       "4           0                  0            1                0   \n",
       "\n",
       "   Park_Underground  \n",
       "0                 0  \n",
       "1                 0  \n",
       "2                 0  \n",
       "3                 0  \n",
       "4                 0  \n",
       "\n",
       "[5 rows x 29 columns]"
      ]
     },
     "execution_count": 33,
     "metadata": {},
     "output_type": "execute_result"
    }
   ],
   "source": [
    "df_dummies.head(5)"
   ]
  },
  {
   "cell_type": "markdown",
   "metadata": {},
   "source": [
    "### Convert to number"
   ]
  },
  {
   "cell_type": "markdown",
   "metadata": {},
   "source": [
    "#### sklearn LabelEncoder\n",
    "\n",
    "This function converts categorical text into categorical numbers."
   ]
  },
  {
   "cell_type": "code",
   "execution_count": 34,
   "metadata": {
    "collapsed": true
   },
   "outputs": [],
   "source": [
    "from sklearn.preprocessing import LabelEncoder"
   ]
  },
  {
   "cell_type": "code",
   "execution_count": 35,
   "metadata": {
    "collapsed": true
   },
   "outputs": [],
   "source": [
    "labelencoder = LabelEncoder()"
   ]
  },
  {
   "cell_type": "code",
   "execution_count": 36,
   "metadata": {
    "collapsed": true
   },
   "outputs": [],
   "source": [
    "df_dummies['RegionId'] = labelencoder.fit_transform(df_dummies.Regionname)"
   ]
  },
  {
   "cell_type": "code",
   "execution_count": 37,
   "metadata": {},
   "outputs": [
    {
     "data": {
      "text/plain": [
       "0    2\n",
       "1    6\n",
       "2    5\n",
       "3    5\n",
       "4    2\n",
       "Name: RegionId, dtype: int64"
      ]
     },
     "execution_count": 37,
     "metadata": {},
     "output_type": "execute_result"
    }
   ],
   "source": [
    "df_dummies['RegionId'].head(5)"
   ]
  },
  {
   "cell_type": "markdown",
   "metadata": {},
   "source": [
    "#### sklearn OneHotEncoder\n",
    "\n",
    "This function does One-Hot-Encoding on categorical numbers"
   ]
  },
  {
   "cell_type": "code",
   "execution_count": 38,
   "metadata": {},
   "outputs": [
    {
     "data": {
      "text/plain": [
       "array([[ 0.,  0.,  1., ...,  0.,  0.,  0.],\n",
       "       [ 0.,  0.,  0., ...,  0.,  1.,  0.],\n",
       "       [ 0.,  0.,  0., ...,  1.,  0.,  0.],\n",
       "       ..., \n",
       "       [ 0.,  0.,  0., ...,  0.,  0.,  0.],\n",
       "       [ 0.,  0.,  0., ...,  0.,  0.,  0.],\n",
       "       [ 0.,  0.,  1., ...,  0.,  0.,  0.]])"
      ]
     },
     "execution_count": 38,
     "metadata": {},
     "output_type": "execute_result"
    }
   ],
   "source": [
    "from sklearn.preprocessing import OneHotEncoder\n",
    "hotencoder = OneHotEncoder()\n",
    "encoded = hotencoder.fit_transform(df_dummies.RegionId.values.reshape(-1,1)).toarray()\n",
    "encoded"
   ]
  },
  {
   "cell_type": "markdown",
   "metadata": {},
   "source": [
    "Let us now add this back to df_dummies dataframe."
   ]
  },
  {
   "cell_type": "code",
   "execution_count": 39,
   "metadata": {
    "collapsed": true
   },
   "outputs": [],
   "source": [
    "df_encoded = pd.DataFrame(encoded, columns = [\"RegionId_\"+str(int(i)) for i in range(encoded.shape[1])])"
   ]
  },
  {
   "cell_type": "code",
   "execution_count": 40,
   "metadata": {
    "collapsed": true
   },
   "outputs": [],
   "source": [
    "df_dummies = pd.concat([df_dummies, df_encoded], axis=1)"
   ]
  },
  {
   "cell_type": "code",
   "execution_count": 41,
   "metadata": {},
   "outputs": [
    {
     "data": {
      "text/html": [
       "<div>\n",
       "<style>\n",
       "    .dataframe thead tr:only-child th {\n",
       "        text-align: right;\n",
       "    }\n",
       "\n",
       "    .dataframe thead th {\n",
       "        text-align: left;\n",
       "    }\n",
       "\n",
       "    .dataframe tbody tr th {\n",
       "        vertical-align: top;\n",
       "    }\n",
       "</style>\n",
       "<table border=\"1\" class=\"dataframe\">\n",
       "  <thead>\n",
       "    <tr style=\"text-align: right;\">\n",
       "      <th></th>\n",
       "      <th>Suburb</th>\n",
       "      <th>Address</th>\n",
       "      <th>Rooms</th>\n",
       "      <th>Type</th>\n",
       "      <th>Method</th>\n",
       "      <th>SellerG</th>\n",
       "      <th>Date</th>\n",
       "      <th>Distance</th>\n",
       "      <th>Postcode</th>\n",
       "      <th>Bedroom</th>\n",
       "      <th>...</th>\n",
       "      <th>Park_Underground</th>\n",
       "      <th>RegionId</th>\n",
       "      <th>RegionId_0</th>\n",
       "      <th>RegionId_1</th>\n",
       "      <th>RegionId_2</th>\n",
       "      <th>RegionId_3</th>\n",
       "      <th>RegionId_4</th>\n",
       "      <th>RegionId_5</th>\n",
       "      <th>RegionId_6</th>\n",
       "      <th>RegionId_7</th>\n",
       "    </tr>\n",
       "  </thead>\n",
       "  <tbody>\n",
       "    <tr>\n",
       "      <th>0</th>\n",
       "      <td>Abbotsford</td>\n",
       "      <td>68 Studley St</td>\n",
       "      <td>2.0</td>\n",
       "      <td>h</td>\n",
       "      <td>SS</td>\n",
       "      <td>Jellis</td>\n",
       "      <td>2016-03-09</td>\n",
       "      <td>2.5</td>\n",
       "      <td>3067</td>\n",
       "      <td>2.0</td>\n",
       "      <td>...</td>\n",
       "      <td>0.0</td>\n",
       "      <td>2.0</td>\n",
       "      <td>0.0</td>\n",
       "      <td>0.0</td>\n",
       "      <td>1.0</td>\n",
       "      <td>0.0</td>\n",
       "      <td>0.0</td>\n",
       "      <td>0.0</td>\n",
       "      <td>0.0</td>\n",
       "      <td>0.0</td>\n",
       "    </tr>\n",
       "    <tr>\n",
       "      <th>1</th>\n",
       "      <td>Airport West</td>\n",
       "      <td>154 Halsey Rd</td>\n",
       "      <td>3.0</td>\n",
       "      <td>t</td>\n",
       "      <td>PI</td>\n",
       "      <td>Nelson</td>\n",
       "      <td>2016-03-09</td>\n",
       "      <td>13.5</td>\n",
       "      <td>3042</td>\n",
       "      <td>3.0</td>\n",
       "      <td>...</td>\n",
       "      <td>0.0</td>\n",
       "      <td>6.0</td>\n",
       "      <td>0.0</td>\n",
       "      <td>0.0</td>\n",
       "      <td>0.0</td>\n",
       "      <td>0.0</td>\n",
       "      <td>0.0</td>\n",
       "      <td>0.0</td>\n",
       "      <td>1.0</td>\n",
       "      <td>0.0</td>\n",
       "    </tr>\n",
       "    <tr>\n",
       "      <th>2</th>\n",
       "      <td>Albert Park</td>\n",
       "      <td>105 Kerferd Rd</td>\n",
       "      <td>2.0</td>\n",
       "      <td>h</td>\n",
       "      <td>S</td>\n",
       "      <td>hockingstuart</td>\n",
       "      <td>2016-03-09</td>\n",
       "      <td>3.3</td>\n",
       "      <td>3206</td>\n",
       "      <td>2.0</td>\n",
       "      <td>...</td>\n",
       "      <td>0.0</td>\n",
       "      <td>5.0</td>\n",
       "      <td>0.0</td>\n",
       "      <td>0.0</td>\n",
       "      <td>0.0</td>\n",
       "      <td>0.0</td>\n",
       "      <td>0.0</td>\n",
       "      <td>1.0</td>\n",
       "      <td>0.0</td>\n",
       "      <td>0.0</td>\n",
       "    </tr>\n",
       "    <tr>\n",
       "      <th>3</th>\n",
       "      <td>Albert Park</td>\n",
       "      <td>85 Richardson St</td>\n",
       "      <td>2.0</td>\n",
       "      <td>h</td>\n",
       "      <td>S</td>\n",
       "      <td>Thomson</td>\n",
       "      <td>2016-03-09</td>\n",
       "      <td>3.3</td>\n",
       "      <td>3206</td>\n",
       "      <td>2.0</td>\n",
       "      <td>...</td>\n",
       "      <td>0.0</td>\n",
       "      <td>5.0</td>\n",
       "      <td>0.0</td>\n",
       "      <td>0.0</td>\n",
       "      <td>0.0</td>\n",
       "      <td>0.0</td>\n",
       "      <td>0.0</td>\n",
       "      <td>1.0</td>\n",
       "      <td>0.0</td>\n",
       "      <td>0.0</td>\n",
       "    </tr>\n",
       "    <tr>\n",
       "      <th>4</th>\n",
       "      <td>Alphington</td>\n",
       "      <td>30 Austin St</td>\n",
       "      <td>3.0</td>\n",
       "      <td>h</td>\n",
       "      <td>SN</td>\n",
       "      <td>McGrath</td>\n",
       "      <td>2016-03-09</td>\n",
       "      <td>6.4</td>\n",
       "      <td>3078</td>\n",
       "      <td>3.0</td>\n",
       "      <td>...</td>\n",
       "      <td>0.0</td>\n",
       "      <td>2.0</td>\n",
       "      <td>0.0</td>\n",
       "      <td>0.0</td>\n",
       "      <td>1.0</td>\n",
       "      <td>0.0</td>\n",
       "      <td>0.0</td>\n",
       "      <td>0.0</td>\n",
       "      <td>0.0</td>\n",
       "      <td>0.0</td>\n",
       "    </tr>\n",
       "  </tbody>\n",
       "</table>\n",
       "<p>5 rows × 38 columns</p>\n",
       "</div>"
      ],
      "text/plain": [
       "         Suburb           Address  Rooms Type Method        SellerG  \\\n",
       "0    Abbotsford     68 Studley St    2.0    h     SS         Jellis   \n",
       "1  Airport West     154 Halsey Rd    3.0    t     PI         Nelson   \n",
       "2   Albert Park    105 Kerferd Rd    2.0    h      S  hockingstuart   \n",
       "3   Albert Park  85 Richardson St    2.0    h      S        Thomson   \n",
       "4    Alphington      30 Austin St    3.0    h     SN        McGrath   \n",
       "\n",
       "        Date  Distance Postcode  Bedroom     ...      Park_Underground  \\\n",
       "0 2016-03-09       2.5     3067      2.0     ...                   0.0   \n",
       "1 2016-03-09      13.5     3042      3.0     ...                   0.0   \n",
       "2 2016-03-09       3.3     3206      2.0     ...                   0.0   \n",
       "3 2016-03-09       3.3     3206      2.0     ...                   0.0   \n",
       "4 2016-03-09       6.4     3078      3.0     ...                   0.0   \n",
       "\n",
       "   RegionId  RegionId_0  RegionId_1 RegionId_2 RegionId_3 RegionId_4  \\\n",
       "0       2.0         0.0         0.0        1.0        0.0        0.0   \n",
       "1       6.0         0.0         0.0        0.0        0.0        0.0   \n",
       "2       5.0         0.0         0.0        0.0        0.0        0.0   \n",
       "3       5.0         0.0         0.0        0.0        0.0        0.0   \n",
       "4       2.0         0.0         0.0        1.0        0.0        0.0   \n",
       "\n",
       "  RegionId_5 RegionId_6  RegionId_7  \n",
       "0        0.0        0.0         0.0  \n",
       "1        0.0        1.0         0.0  \n",
       "2        1.0        0.0         0.0  \n",
       "3        1.0        0.0         0.0  \n",
       "4        0.0        0.0         0.0  \n",
       "\n",
       "[5 rows x 38 columns]"
      ]
     },
     "execution_count": 41,
     "metadata": {},
     "output_type": "execute_result"
    }
   ],
   "source": [
    "df_dummies.head(5)"
   ]
  },
  {
   "cell_type": "markdown",
   "metadata": {},
   "source": [
    "<html>\n",
    "<font color = Blue size = 4>\n",
    "<b> Data transformations\n",
    "</b>\n",
    "</font>\n",
    "</html>"
   ]
  },
  {
   "cell_type": "markdown",
   "metadata": {},
   "source": [
    "### Summary statistics"
   ]
  },
  {
   "cell_type": "code",
   "execution_count": 42,
   "metadata": {},
   "outputs": [
    {
     "data": {
      "text/html": [
       "<div>\n",
       "<style>\n",
       "    .dataframe thead tr:only-child th {\n",
       "        text-align: right;\n",
       "    }\n",
       "\n",
       "    .dataframe thead th {\n",
       "        text-align: left;\n",
       "    }\n",
       "\n",
       "    .dataframe tbody tr th {\n",
       "        vertical-align: top;\n",
       "    }\n",
       "</style>\n",
       "<table border=\"1\" class=\"dataframe\">\n",
       "  <thead>\n",
       "    <tr style=\"text-align: right;\">\n",
       "      <th></th>\n",
       "      <th>Rooms</th>\n",
       "      <th>Distance</th>\n",
       "      <th>Bedroom</th>\n",
       "      <th>Bathroom</th>\n",
       "      <th>Car</th>\n",
       "      <th>Landsize</th>\n",
       "      <th>BuildingArea</th>\n",
       "      <th>Propertycount</th>\n",
       "      <th>Price</th>\n",
       "    </tr>\n",
       "  </thead>\n",
       "  <tbody>\n",
       "    <tr>\n",
       "      <th>count</th>\n",
       "      <td>34856.000000</td>\n",
       "      <td>34856.000000</td>\n",
       "      <td>34856.000000</td>\n",
       "      <td>34856.000000</td>\n",
       "      <td>34856.000000</td>\n",
       "      <td>23047.000000</td>\n",
       "      <td>34856.000000</td>\n",
       "      <td>34854.000000</td>\n",
       "      <td>2.724600e+04</td>\n",
       "    </tr>\n",
       "    <tr>\n",
       "      <th>mean</th>\n",
       "      <td>3.031013</td>\n",
       "      <td>11.184929</td>\n",
       "      <td>3.064695</td>\n",
       "      <td>1.477364</td>\n",
       "      <td>1.295989</td>\n",
       "      <td>593.598993</td>\n",
       "      <td>108.733045</td>\n",
       "      <td>7572.888306</td>\n",
       "      <td>1.050189e+06</td>\n",
       "    </tr>\n",
       "    <tr>\n",
       "      <th>std</th>\n",
       "      <td>0.969947</td>\n",
       "      <td>6.788892</td>\n",
       "      <td>0.858102</td>\n",
       "      <td>0.686366</td>\n",
       "      <td>1.151889</td>\n",
       "      <td>3398.841946</td>\n",
       "      <td>259.303142</td>\n",
       "      <td>4428.090313</td>\n",
       "      <td>6.414735e+05</td>\n",
       "    </tr>\n",
       "    <tr>\n",
       "      <th>min</th>\n",
       "      <td>1.000000</td>\n",
       "      <td>0.000000</td>\n",
       "      <td>0.000000</td>\n",
       "      <td>0.000000</td>\n",
       "      <td>0.000000</td>\n",
       "      <td>0.000000</td>\n",
       "      <td>-58.000000</td>\n",
       "      <td>83.000000</td>\n",
       "      <td>8.500000e+04</td>\n",
       "    </tr>\n",
       "    <tr>\n",
       "      <th>25%</th>\n",
       "      <td>2.000000</td>\n",
       "      <td>6.400000</td>\n",
       "      <td>3.000000</td>\n",
       "      <td>1.000000</td>\n",
       "      <td>0.000000</td>\n",
       "      <td>224.000000</td>\n",
       "      <td>48.000000</td>\n",
       "      <td>4385.000000</td>\n",
       "      <td>6.350000e+05</td>\n",
       "    </tr>\n",
       "    <tr>\n",
       "      <th>50%</th>\n",
       "      <td>3.000000</td>\n",
       "      <td>10.300000</td>\n",
       "      <td>3.000000</td>\n",
       "      <td>1.000000</td>\n",
       "      <td>1.000000</td>\n",
       "      <td>521.000000</td>\n",
       "      <td>94.000000</td>\n",
       "      <td>6763.000000</td>\n",
       "      <td>8.700000e+05</td>\n",
       "    </tr>\n",
       "    <tr>\n",
       "      <th>75%</th>\n",
       "      <td>4.000000</td>\n",
       "      <td>14.000000</td>\n",
       "      <td>3.000000</td>\n",
       "      <td>2.000000</td>\n",
       "      <td>2.000000</td>\n",
       "      <td>670.000000</td>\n",
       "      <td>144.000000</td>\n",
       "      <td>10412.000000</td>\n",
       "      <td>1.295000e+06</td>\n",
       "    </tr>\n",
       "    <tr>\n",
       "      <th>max</th>\n",
       "      <td>16.000000</td>\n",
       "      <td>48.100000</td>\n",
       "      <td>30.000000</td>\n",
       "      <td>12.000000</td>\n",
       "      <td>26.000000</td>\n",
       "      <td>433014.000000</td>\n",
       "      <td>44515.000000</td>\n",
       "      <td>21650.000000</td>\n",
       "      <td>1.120000e+07</td>\n",
       "    </tr>\n",
       "  </tbody>\n",
       "</table>\n",
       "</div>"
      ],
      "text/plain": [
       "              Rooms      Distance       Bedroom      Bathroom           Car  \\\n",
       "count  34856.000000  34856.000000  34856.000000  34856.000000  34856.000000   \n",
       "mean       3.031013     11.184929      3.064695      1.477364      1.295989   \n",
       "std        0.969947      6.788892      0.858102      0.686366      1.151889   \n",
       "min        1.000000      0.000000      0.000000      0.000000      0.000000   \n",
       "25%        2.000000      6.400000      3.000000      1.000000      0.000000   \n",
       "50%        3.000000     10.300000      3.000000      1.000000      1.000000   \n",
       "75%        4.000000     14.000000      3.000000      2.000000      2.000000   \n",
       "max       16.000000     48.100000     30.000000     12.000000     26.000000   \n",
       "\n",
       "            Landsize  BuildingArea  Propertycount         Price  \n",
       "count   23047.000000  34856.000000   34854.000000  2.724600e+04  \n",
       "mean      593.598993    108.733045    7572.888306  1.050189e+06  \n",
       "std      3398.841946    259.303142    4428.090313  6.414735e+05  \n",
       "min         0.000000    -58.000000      83.000000  8.500000e+04  \n",
       "25%       224.000000     48.000000    4385.000000  6.350000e+05  \n",
       "50%       521.000000     94.000000    6763.000000  8.700000e+05  \n",
       "75%       670.000000    144.000000   10412.000000  1.295000e+06  \n",
       "max    433014.000000  44515.000000   21650.000000  1.120000e+07  "
      ]
     },
     "execution_count": 42,
     "metadata": {},
     "output_type": "execute_result"
    }
   ],
   "source": [
    "df.describe()"
   ]
  },
  {
   "cell_type": "markdown",
   "metadata": {},
   "source": [
    "### Kurtosis"
   ]
  },
  {
   "cell_type": "markdown",
   "metadata": {},
   "source": [
    "Kurtosis describes the shape of a probability distribution. It is a measure of taildedness of the distribution.\n",
    "\n",
    "**Positive Value** - denotes heavy tails or more data is distributed around the tails\n",
    "\n",
    "**Negative Value** - denotes light tails or less data is distributed around the tails\n"
   ]
  },
  {
   "cell_type": "code",
   "execution_count": 43,
   "metadata": {},
   "outputs": [
    {
     "data": {
      "text/plain": [
       "Rooms                2.511549\n",
       "Distance             3.585924\n",
       "Bedroom             36.014655\n",
       "Bathroom             5.782342\n",
       "Car                 10.103809\n",
       "Landsize         11580.162510\n",
       "BuildingArea     24704.194210\n",
       "Propertycount        0.890688\n",
       "Price               13.096886\n",
       "dtype: float64"
      ]
     },
     "execution_count": 43,
     "metadata": {},
     "output_type": "execute_result"
    }
   ],
   "source": [
    "df.kurtosis(numeric_only  = True)"
   ]
  },
  {
   "cell_type": "code",
   "execution_count": 44,
   "metadata": {},
   "outputs": [
    {
     "data": {
      "text/plain": [
       "NormaltestResult(statistic=12693.08463412421, pvalue=0.0)"
      ]
     },
     "execution_count": 44,
     "metadata": {},
     "output_type": "execute_result"
    }
   ],
   "source": [
    "import scipy.stats\n",
    "scipy.stats.mstats.normaltest(df['Car'])"
   ]
  },
  {
   "cell_type": "code",
   "execution_count": 45,
   "metadata": {},
   "outputs": [
    {
     "data": {
      "text/plain": [
       "10.102187770982102"
      ]
     },
     "execution_count": 45,
     "metadata": {},
     "output_type": "execute_result"
    }
   ],
   "source": [
    "scipy.stats.kurtosis(df['Car'])"
   ]
  },
  {
   "cell_type": "code",
   "execution_count": 46,
   "metadata": {},
   "outputs": [
    {
     "data": {
      "text/plain": [
       "KurtosistestResult(statistic=78.050233067300297, pvalue=0.0)"
      ]
     },
     "execution_count": 46,
     "metadata": {},
     "output_type": "execute_result"
    }
   ],
   "source": [
    "scipy.stats.kurtosistest(df['Car'])"
   ]
  },
  {
   "cell_type": "markdown",
   "metadata": {},
   "source": [
    "### Skewness\n",
    "\n",
    "Skewness similar to Kurtosis describes the shape of a probability distribution. It is a measure of asymmetry of the distribution.\n",
    "\n",
    "**Positive Skew** - denotes right tail is longer\n",
    "\n",
    "**Negative Skew** - denotes left tail is longer\n"
   ]
  },
  {
   "cell_type": "code",
   "execution_count": 47,
   "metadata": {},
   "outputs": [
    {
     "data": {
      "text/plain": [
       "Rooms              0.499087\n",
       "Distance           1.503586\n",
       "Bedroom            1.673977\n",
       "Bathroom           1.693604\n",
       "Car                1.395061\n",
       "Landsize          96.022311\n",
       "BuildingArea     145.374936\n",
       "Propertycount      0.992100\n",
       "Price              2.588924\n",
       "dtype: float64"
      ]
     },
     "execution_count": 47,
     "metadata": {},
     "output_type": "execute_result"
    }
   ],
   "source": [
    "df.skew(numeric_only  = True)"
   ]
  },
  {
   "cell_type": "code",
   "execution_count": 48,
   "metadata": {},
   "outputs": [
    {
     "data": {
      "text/plain": [
       "1.3950010784564906"
      ]
     },
     "execution_count": 48,
     "metadata": {},
     "output_type": "execute_result"
    }
   ],
   "source": [
    "scipy.stats.skew(df['Car'])"
   ]
  },
  {
   "cell_type": "code",
   "execution_count": 49,
   "metadata": {},
   "outputs": [
    {
     "data": {
      "text/plain": [
       "SkewtestResult(statistic=81.24805075978324, pvalue=0.0)"
      ]
     },
     "execution_count": 49,
     "metadata": {},
     "output_type": "execute_result"
    }
   ],
   "source": [
    "scipy.stats.skewtest(df['Car'])"
   ]
  },
  {
   "cell_type": "code",
   "execution_count": 50,
   "metadata": {
    "collapsed": true
   },
   "outputs": [],
   "source": [
    "def plot_skewness(column):\n",
    "        skewed_data = pd.DataFrame(df[column])\n",
    "\n",
    "        skewed_data.plot(kind=\"density\",\n",
    "                      figsize=(10,10),\n",
    "                        xlim=(0,5))\n",
    "\n",
    "\n",
    "        plt.vlines(skewed_data.mean(),     \n",
    "                   ymin=0, \n",
    "                   ymax=1.4,\n",
    "                   linewidth=5.0,\n",
    "                   label = 'mean',\n",
    "                   linestyles = 'dashdot',\n",
    "                   color = 'blue'\n",
    "                  )\n",
    "\n",
    "        plt.vlines(skewed_data.median(),   \n",
    "                   ymin=0, \n",
    "                   ymax=1.4, \n",
    "                   linewidth=2.0,\n",
    "                   label = 'median',\n",
    "                   color='red')"
   ]
  },
  {
   "cell_type": "code",
   "execution_count": 51,
   "metadata": {},
   "outputs": [
    {
     "data": {
      "image/png": "[encoded data removed]",
      "text/plain": [
       "<matplotlib.figure.Figure at 0xae97a58>"
      ]
     },
     "metadata": {},
     "output_type": "display_data"
    }
   ],
   "source": [
    "plot_skewness('Car')"
   ]
  },
  {
   "cell_type": "markdown",
   "metadata": {},
   "source": [
    "The above data is multimodal which means that the variable is not normally distributed. \n",
    "\n",
    "It also indicates that the sample is not homogenous and the observations come in fact from two or more \"overlapping\" distributions.\n",
    "\n",
    "Also, **mean** is to the right side of **median** making the data skewed to right."
   ]
  },
  {
   "cell_type": "markdown",
   "metadata": {},
   "source": [
    "**This data is not going to perform great on any model due to its skewness.\n",
    "How are we going to handle this skewed data?**\n",
    "\n",
    "The best way to fix it is to perform a transformation on the data, with the intent to reduce the skewness.\n",
    "\n",
    "In data analysis transformation is the replacement of a variable by a function of that variable: for example, replacing a variable x by the square root of x or the logarithm of x. In a stronger sense, a transformation is a replacement that changes the shape of a distribution or relationship."
   ]
  },
  {
   "cell_type": "markdown",
   "metadata": {},
   "source": [
    "<html>\n",
    "<font color = black size = 4>\n",
    "<b>Normalization and Scaling\n",
    "</b>\n",
    "</font>\n",
    "</html>"
   ]
  },
  {
   "cell_type": "markdown",
   "metadata": {},
   "source": [
    "In this method, we convert variables with different scales of measurements into a single scale. "
   ]
  },
  {
   "cell_type": "markdown",
   "metadata": {},
   "source": [
    "**StandardScaler** normalizes the data using the formula (x-mean)/standard deviation"
   ]
  },
  {
   "cell_type": "code",
   "execution_count": 52,
   "metadata": {
    "collapsed": true
   },
   "outputs": [],
   "source": [
    "from sklearn.preprocessing import StandardScaler"
   ]
  },
  {
   "cell_type": "code",
   "execution_count": 53,
   "metadata": {
    "collapsed": true
   },
   "outputs": [],
   "source": [
    "std_scale = StandardScaler()"
   ]
  },
  {
   "cell_type": "code",
   "execution_count": 54,
   "metadata": {
    "collapsed": true
   },
   "outputs": [],
   "source": [
    "df['Bedroom_Stdscale'] = std_scale.fit_transform(df[['Bedroom']])"
   ]
  },
  {
   "cell_type": "code",
   "execution_count": 55,
   "metadata": {},
   "outputs": [
    {
     "data": {
      "text/plain": [
       "0   -1.240773\n",
       "1   -0.075394\n",
       "2   -1.240773\n",
       "3   -1.240773\n",
       "4   -0.075394\n",
       "Name: Bedroom_Stdscale, dtype: float64"
      ]
     },
     "execution_count": 55,
     "metadata": {},
     "output_type": "execute_result"
    }
   ],
   "source": [
    "df['Bedroom_Stdscale'].head(5)"
   ]
  },
  {
   "cell_type": "markdown",
   "metadata": {},
   "source": [
    "**MinMaxScaler** normalizes the data using the formula (x - min)/(max - min)"
   ]
  },
  {
   "cell_type": "code",
   "execution_count": 56,
   "metadata": {
    "collapsed": true
   },
   "outputs": [],
   "source": [
    "from sklearn.preprocessing import MinMaxScaler"
   ]
  },
  {
   "cell_type": "code",
   "execution_count": 57,
   "metadata": {
    "collapsed": true
   },
   "outputs": [],
   "source": [
    "minmax_scale = MinMaxScaler()"
   ]
  },
  {
   "cell_type": "code",
   "execution_count": 58,
   "metadata": {
    "collapsed": true
   },
   "outputs": [],
   "source": [
    "df['Car_MinMaxScale'] = minmax_scale.fit_transform(df[['Car']])"
   ]
  },
  {
   "cell_type": "code",
   "execution_count": 59,
   "metadata": {},
   "outputs": [
    {
     "data": {
      "text/plain": [
       "0    0.038462\n",
       "1    0.038462\n",
       "2    0.000000\n",
       "3    0.000000\n",
       "4    0.038462\n",
       "Name: Car_MinMaxScale, dtype: float64"
      ]
     },
     "execution_count": 59,
     "metadata": {},
     "output_type": "execute_result"
    }
   ],
   "source": [
    "df['Car_MinMaxScale'].head(5)"
   ]
  },
  {
   "cell_type": "markdown",
   "metadata": {},
   "source": [
    "**Log Transformation** \n",
    "\n",
    "We are going to write a custom transformer to perform log transformation"
   ]
  },
  {
   "cell_type": "code",
   "execution_count": 60,
   "metadata": {
    "collapsed": true
   },
   "outputs": [],
   "source": [
    "from sklearn.preprocessing import FunctionTransformer"
   ]
  },
  {
   "cell_type": "code",
   "execution_count": 61,
   "metadata": {
    "collapsed": true
   },
   "outputs": [],
   "source": [
    "log_transformer = FunctionTransformer(np.log1p)"
   ]
  },
  {
   "cell_type": "code",
   "execution_count": 62,
   "metadata": {
    "collapsed": true
   },
   "outputs": [],
   "source": [
    "df['Distance_logtransform'] = log_transformer.fit_transform(df[['Distance']])"
   ]
  },
  {
   "cell_type": "code",
   "execution_count": 63,
   "metadata": {},
   "outputs": [
    {
     "data": {
      "text/plain": [
       "0    1.252763\n",
       "1    2.674149\n",
       "2    1.458615\n",
       "3    1.458615\n",
       "4    2.001480\n",
       "Name: Distance_logtransform, dtype: float64"
      ]
     },
     "execution_count": 63,
     "metadata": {},
     "output_type": "execute_result"
    }
   ],
   "source": [
    "df['Distance_logtransform'].head(5)"
   ]
  },
  {
   "cell_type": "markdown",
   "metadata": {},
   "source": [
    "**Exponential Transformation** "
   ]
  },
  {
   "cell_type": "code",
   "execution_count": 64,
   "metadata": {
    "collapsed": true
   },
   "outputs": [],
   "source": [
    "exp_transformer = FunctionTransformer(np.exp)"
   ]
  },
  {
   "cell_type": "code",
   "execution_count": 65,
   "metadata": {
    "collapsed": true
   },
   "outputs": [],
   "source": [
    "df['Bathroom_exptransform'] = exp_transformer.fit_transform(df[['Bathroom']])"
   ]
  },
  {
   "cell_type": "code",
   "execution_count": 66,
   "metadata": {},
   "outputs": [
    {
     "data": {
      "text/plain": [
       "0    2.718282\n",
       "1    7.389056\n",
       "2    2.718282\n",
       "3    2.718282\n",
       "4    7.389056\n",
       "Name: Bathroom_exptransform, dtype: float64"
      ]
     },
     "execution_count": 66,
     "metadata": {},
     "output_type": "execute_result"
    }
   ],
   "source": [
    "df['Bathroom_exptransform'].head(5)"
   ]
  },
  {
   "cell_type": "markdown",
   "metadata": {},
   "source": [
    "<html>\n",
    "<font color = Blue size = 4>\n",
    "<b>Outlier treatment\n",
    "</b>\n",
    "</font>\n",
    "</html>"
   ]
  },
  {
   "cell_type": "markdown",
   "metadata": {
    "collapsed": true
   },
   "source": [
    "Outlier detection is the identification of items, events or observations which do not conform to an expected pattern or behavior\n",
    "in comparison with other items in a given dataset.\n",
    "\n",
    "Generally, observations larger than q3 + t or smaller than ql - t, whereby t = 1.5(q3 -ql), are regarded as outliers."
   ]
  },
  {
   "cell_type": "code",
   "execution_count": 67,
   "metadata": {},
   "outputs": [
    {
     "data": {
      "text/plain": [
       "<matplotlib.axes._subplots.AxesSubplot at 0x1003dc18>"
      ]
     },
     "execution_count": 67,
     "metadata": {},
     "output_type": "execute_result"
    },
    {
     "data": {
      "image/png": "[encoded data removed]",
      "text/plain": [
       "<matplotlib.figure.Figure at 0xc52a2e8>"
      ]
     },
     "metadata": {},
     "output_type": "display_data"
    }
   ],
   "source": [
    "df[['Rooms']].boxplot()"
   ]
  },
  {
   "cell_type": "code",
   "execution_count": 68,
   "metadata": {
    "collapsed": true
   },
   "outputs": [],
   "source": [
    "q3 = df[['Rooms']].quantile(0.75).Rooms\n",
    "q1 = df[['Rooms']].quantile(0.25).Rooms\n",
    "t = q3-q1\n",
    "outliers_above = q3+t\n",
    "outliers_below = q1-t"
   ]
  },
  {
   "cell_type": "code",
   "execution_count": 69,
   "metadata": {},
   "outputs": [
    {
     "data": {
      "text/plain": [
       "6.0"
      ]
     },
     "execution_count": 69,
     "metadata": {},
     "output_type": "execute_result"
    }
   ],
   "source": [
    "outliers_above"
   ]
  },
  {
   "cell_type": "code",
   "execution_count": 70,
   "metadata": {},
   "outputs": [
    {
     "data": {
      "text/plain": [
       "0.0"
      ]
     },
     "execution_count": 70,
     "metadata": {},
     "output_type": "execute_result"
    }
   ],
   "source": [
    "outliers_below"
   ]
  },
  {
   "cell_type": "code",
   "execution_count": 71,
   "metadata": {},
   "outputs": [
    {
     "data": {
      "text/plain": [
       "65"
      ]
     },
     "execution_count": 71,
     "metadata": {},
     "output_type": "execute_result"
    }
   ],
   "source": [
    "df.loc[df.Rooms>6].count().Rooms"
   ]
  },
  {
   "cell_type": "markdown",
   "metadata": {},
   "source": [
    "### Drop outliers"
   ]
  },
  {
   "cell_type": "markdown",
   "metadata": {},
   "source": [
    "We can drop the outliers since it is only 65 records out of 34856 records"
   ]
  },
  {
   "cell_type": "code",
   "execution_count": 72,
   "metadata": {},
   "outputs": [
    {
     "data": {
      "text/html": [
       "<div>\n",
       "<style>\n",
       "    .dataframe thead tr:only-child th {\n",
       "        text-align: right;\n",
       "    }\n",
       "\n",
       "    .dataframe thead th {\n",
       "        text-align: left;\n",
       "    }\n",
       "\n",
       "    .dataframe tbody tr th {\n",
       "        vertical-align: top;\n",
       "    }\n",
       "</style>\n",
       "<table border=\"1\" class=\"dataframe\">\n",
       "  <thead>\n",
       "    <tr style=\"text-align: right;\">\n",
       "      <th></th>\n",
       "      <th>Suburb</th>\n",
       "      <th>Address</th>\n",
       "      <th>Rooms</th>\n",
       "      <th>Type</th>\n",
       "      <th>Method</th>\n",
       "      <th>SellerG</th>\n",
       "      <th>Date</th>\n",
       "      <th>Distance</th>\n",
       "      <th>Postcode</th>\n",
       "      <th>Bedroom</th>\n",
       "      <th>...</th>\n",
       "      <th>Latitude</th>\n",
       "      <th>Longtitude</th>\n",
       "      <th>Regionname</th>\n",
       "      <th>Propertycount</th>\n",
       "      <th>ParkingArea</th>\n",
       "      <th>Price</th>\n",
       "      <th>Bedroom_Stdscale</th>\n",
       "      <th>Car_MinMaxScale</th>\n",
       "      <th>Distance_logtransform</th>\n",
       "      <th>Bathroom_exptransform</th>\n",
       "    </tr>\n",
       "  </thead>\n",
       "  <tbody>\n",
       "    <tr>\n",
       "      <th>0</th>\n",
       "      <td>Abbotsford</td>\n",
       "      <td>68 Studley St</td>\n",
       "      <td>2</td>\n",
       "      <td>h</td>\n",
       "      <td>SS</td>\n",
       "      <td>Jellis</td>\n",
       "      <td>2016-03-09</td>\n",
       "      <td>2.5</td>\n",
       "      <td>3067</td>\n",
       "      <td>2</td>\n",
       "      <td>...</td>\n",
       "      <td>-37.8014</td>\n",
       "      <td>144.996</td>\n",
       "      <td>Northern Metropolitan</td>\n",
       "      <td>4019.0</td>\n",
       "      <td>Carport</td>\n",
       "      <td>NaN</td>\n",
       "      <td>-1.240773</td>\n",
       "      <td>0.038462</td>\n",
       "      <td>1.252763</td>\n",
       "      <td>2.718282</td>\n",
       "    </tr>\n",
       "    <tr>\n",
       "      <th>1</th>\n",
       "      <td>Airport West</td>\n",
       "      <td>154 Halsey Rd</td>\n",
       "      <td>3</td>\n",
       "      <td>t</td>\n",
       "      <td>PI</td>\n",
       "      <td>Nelson</td>\n",
       "      <td>2016-03-09</td>\n",
       "      <td>13.5</td>\n",
       "      <td>3042</td>\n",
       "      <td>3</td>\n",
       "      <td>...</td>\n",
       "      <td>-37.718</td>\n",
       "      <td>144.878</td>\n",
       "      <td>Western Metropolitan</td>\n",
       "      <td>3464.0</td>\n",
       "      <td>Detached Garage</td>\n",
       "      <td>840000.0</td>\n",
       "      <td>-0.075394</td>\n",
       "      <td>0.038462</td>\n",
       "      <td>2.674149</td>\n",
       "      <td>7.389056</td>\n",
       "    </tr>\n",
       "    <tr>\n",
       "      <th>2</th>\n",
       "      <td>Albert Park</td>\n",
       "      <td>105 Kerferd Rd</td>\n",
       "      <td>2</td>\n",
       "      <td>h</td>\n",
       "      <td>S</td>\n",
       "      <td>hockingstuart</td>\n",
       "      <td>2016-03-09</td>\n",
       "      <td>3.3</td>\n",
       "      <td>3206</td>\n",
       "      <td>2</td>\n",
       "      <td>...</td>\n",
       "      <td>-37.8459</td>\n",
       "      <td>144.956</td>\n",
       "      <td>Southern Metropolitan</td>\n",
       "      <td>3280.0</td>\n",
       "      <td>Attached Garage</td>\n",
       "      <td>1275000.0</td>\n",
       "      <td>-1.240773</td>\n",
       "      <td>0.000000</td>\n",
       "      <td>1.458615</td>\n",
       "      <td>2.718282</td>\n",
       "    </tr>\n",
       "    <tr>\n",
       "      <th>3</th>\n",
       "      <td>Albert Park</td>\n",
       "      <td>85 Richardson St</td>\n",
       "      <td>2</td>\n",
       "      <td>h</td>\n",
       "      <td>S</td>\n",
       "      <td>Thomson</td>\n",
       "      <td>2016-03-09</td>\n",
       "      <td>3.3</td>\n",
       "      <td>3206</td>\n",
       "      <td>2</td>\n",
       "      <td>...</td>\n",
       "      <td>-37.845</td>\n",
       "      <td>144.954</td>\n",
       "      <td>Southern Metropolitan</td>\n",
       "      <td>3280.0</td>\n",
       "      <td>Indoor</td>\n",
       "      <td>1455000.0</td>\n",
       "      <td>-1.240773</td>\n",
       "      <td>0.000000</td>\n",
       "      <td>1.458615</td>\n",
       "      <td>2.718282</td>\n",
       "    </tr>\n",
       "    <tr>\n",
       "      <th>4</th>\n",
       "      <td>Alphington</td>\n",
       "      <td>30 Austin St</td>\n",
       "      <td>3</td>\n",
       "      <td>h</td>\n",
       "      <td>SN</td>\n",
       "      <td>McGrath</td>\n",
       "      <td>2016-03-09</td>\n",
       "      <td>6.4</td>\n",
       "      <td>3078</td>\n",
       "      <td>3</td>\n",
       "      <td>...</td>\n",
       "      <td>-37.7818</td>\n",
       "      <td>145.02</td>\n",
       "      <td>Northern Metropolitan</td>\n",
       "      <td>2211.0</td>\n",
       "      <td>Parkade</td>\n",
       "      <td>NaN</td>\n",
       "      <td>-0.075394</td>\n",
       "      <td>0.038462</td>\n",
       "      <td>2.001480</td>\n",
       "      <td>7.389056</td>\n",
       "    </tr>\n",
       "  </tbody>\n",
       "</table>\n",
       "<p>5 rows × 26 columns</p>\n",
       "</div>"
      ],
      "text/plain": [
       "         Suburb           Address  Rooms Type Method        SellerG  \\\n",
       "0    Abbotsford     68 Studley St      2    h     SS         Jellis   \n",
       "1  Airport West     154 Halsey Rd      3    t     PI         Nelson   \n",
       "2   Albert Park    105 Kerferd Rd      2    h      S  hockingstuart   \n",
       "3   Albert Park  85 Richardson St      2    h      S        Thomson   \n",
       "4    Alphington      30 Austin St      3    h     SN        McGrath   \n",
       "\n",
       "        Date  Distance Postcode  Bedroom          ...            Latitude  \\\n",
       "0 2016-03-09       2.5     3067        2          ...            -37.8014   \n",
       "1 2016-03-09      13.5     3042        3          ...             -37.718   \n",
       "2 2016-03-09       3.3     3206        2          ...            -37.8459   \n",
       "3 2016-03-09       3.3     3206        2          ...             -37.845   \n",
       "4 2016-03-09       6.4     3078        3          ...            -37.7818   \n",
       "\n",
       "   Longtitude             Regionname  Propertycount      ParkingArea  \\\n",
       "0     144.996  Northern Metropolitan         4019.0          Carport   \n",
       "1     144.878   Western Metropolitan         3464.0  Detached Garage   \n",
       "2     144.956  Southern Metropolitan         3280.0  Attached Garage   \n",
       "3     144.954  Southern Metropolitan         3280.0           Indoor   \n",
       "4      145.02  Northern Metropolitan         2211.0          Parkade   \n",
       "\n",
       "       Price Bedroom_Stdscale Car_MinMaxScale Distance_logtransform  \\\n",
       "0        NaN        -1.240773        0.038462              1.252763   \n",
       "1   840000.0        -0.075394        0.038462              2.674149   \n",
       "2  1275000.0        -1.240773        0.000000              1.458615   \n",
       "3  1455000.0        -1.240773        0.000000              1.458615   \n",
       "4        NaN        -0.075394        0.038462              2.001480   \n",
       "\n",
       "   Bathroom_exptransform  \n",
       "0               2.718282  \n",
       "1               7.389056  \n",
       "2               2.718282  \n",
       "3               2.718282  \n",
       "4               7.389056  \n",
       "\n",
       "[5 rows x 26 columns]"
      ]
     },
     "execution_count": 72,
     "metadata": {},
     "output_type": "execute_result"
    }
   ],
   "source": [
    "df_drop = df.copy(deep = True)\n",
    "df_drop.loc[~ (df_drop['Rooms']>6)].head(5)"
   ]
  },
  {
   "cell_type": "markdown",
   "metadata": {},
   "source": [
    "### Replace with Max"
   ]
  },
  {
   "cell_type": "code",
   "execution_count": 73,
   "metadata": {
    "collapsed": true
   },
   "outputs": [],
   "source": [
    "df_max = df.copy(deep = True)\n",
    "df_max.loc[df_max.Rooms>6, 'Rooms'] = 6"
   ]
  },
  {
   "cell_type": "code",
   "execution_count": 74,
   "metadata": {},
   "outputs": [
    {
     "data": {
      "text/plain": [
       "0"
      ]
     },
     "execution_count": 74,
     "metadata": {},
     "output_type": "execute_result"
    }
   ],
   "source": [
    "df_max.loc[df_max.Rooms>6].count().Rooms"
   ]
  },
  {
   "cell_type": "markdown",
   "metadata": {},
   "source": [
    "### Replace with Median"
   ]
  },
  {
   "cell_type": "code",
   "execution_count": 75,
   "metadata": {},
   "outputs": [
    {
     "data": {
      "text/plain": [
       "3.0"
      ]
     },
     "execution_count": 75,
     "metadata": {},
     "output_type": "execute_result"
    }
   ],
   "source": [
    "df_median = df.copy(deep = True)\n",
    "median = df_median.loc[df_median.Rooms<=6, 'Rooms'].median()\n",
    "median"
   ]
  },
  {
   "cell_type": "code",
   "execution_count": 76,
   "metadata": {
    "collapsed": true
   },
   "outputs": [],
   "source": [
    "df_median.loc[df_median.Rooms>6, 'Rooms'] = median"
   ]
  },
  {
   "cell_type": "code",
   "execution_count": 77,
   "metadata": {},
   "outputs": [
    {
     "data": {
      "text/plain": [
       "0"
      ]
     },
     "execution_count": 77,
     "metadata": {},
     "output_type": "execute_result"
    }
   ],
   "source": [
    "df_median.loc[df_median.Rooms>6].count().Rooms"
   ]
  },
  {
   "cell_type": "markdown",
   "metadata": {},
   "source": [
    "### Replace with Mean"
   ]
  },
  {
   "cell_type": "code",
   "execution_count": 78,
   "metadata": {
    "collapsed": true
   },
   "outputs": [],
   "source": [
    "df_mean = df.copy(deep = True)\n",
    "mean = df_mean.loc[df_mean.Rooms<=6, 'Rooms'].mean()\n",
    "mean = np.round(mean)"
   ]
  },
  {
   "cell_type": "code",
   "execution_count": 79,
   "metadata": {
    "collapsed": true
   },
   "outputs": [],
   "source": [
    "df_mean.loc[df_mean.Rooms>6, 'Rooms'] = mean"
   ]
  },
  {
   "cell_type": "code",
   "execution_count": 80,
   "metadata": {},
   "outputs": [
    {
     "data": {
      "text/plain": [
       "0"
      ]
     },
     "execution_count": 80,
     "metadata": {},
     "output_type": "execute_result"
    }
   ],
   "source": [
    "df_mean.loc[df_mean.Rooms>6].count().Rooms"
   ]
  },
  {
   "cell_type": "markdown",
   "metadata": {},
   "source": [
    "<html>\n",
    "<font color = Blue size = 4>\n",
    "<b>Multicollinearity and Variation Inflation Factor (VIF)\n",
    "</b>\n",
    "</font>\n",
    "</html>"
   ]
  },
  {
   "cell_type": "markdown",
   "metadata": {
    "collapsed": true
   },
   "source": [
    "**Multicollinearity** - \n",
    "Multicollinearity happens when one or more of the independent variables are strongly correlated with each other. \n",
    "In such scenarios, we should use only one among correlated independent variables."
   ]
  },
  {
   "cell_type": "code",
   "execution_count": 81,
   "metadata": {
    "collapsed": true
   },
   "outputs": [],
   "source": [
    "corr = df[['Rooms','Distance','Bedroom','Bathroom','Car','Landsize','BuildingArea','Propertycount','Price']].corr()"
   ]
  },
  {
   "cell_type": "code",
   "execution_count": 82,
   "metadata": {},
   "outputs": [
    {
     "data": {
      "image/png": "[encoded data removed]",
      "text/plain": [
       "<matplotlib.figure.Figure at 0xff0e7f0>"
      ]
     },
     "metadata": {},
     "output_type": "display_data"
    }
   ],
   "source": [
    "import statsmodels.graphics.api as smg\n",
    "smg.plot_corr(corr, xnames=list(corr.columns))\n",
    "plt.show()"
   ]
  },
  {
   "cell_type": "markdown",
   "metadata": {},
   "source": [
    "From the above plot, we can see that **Rooms** variable has a strong positive correlation with **Bedroom** variable.\n",
    "\n",
    "**Propertycount** has a negative correlation with all other variables."
   ]
  },
  {
   "cell_type": "markdown",
   "metadata": {},
   "source": [
    "**VIF** - is an indicator of the existence of multicollinearity. \n",
    "\n",
    "Let us now perform VIF analysis to remove multicollinearity."
   ]
  },
  {
   "cell_type": "code",
   "execution_count": 83,
   "metadata": {
    "collapsed": true
   },
   "outputs": [],
   "source": [
    "predictor_variables = ['Rooms','Distance','Bedroom','Bathroom','Car','Landsize','BuildingArea','Propertycount']"
   ]
  },
  {
   "cell_type": "code",
   "execution_count": 84,
   "metadata": {
    "collapsed": true
   },
   "outputs": [],
   "source": [
    "df_predictor = df[predictor_variables].copy(deep = True)\n",
    "df_predictor = df_predictor.dropna()"
   ]
  },
  {
   "cell_type": "code",
   "execution_count": 85,
   "metadata": {},
   "outputs": [
    {
     "name": "stdout",
     "output_type": "stream",
     "text": [
      "VIF : [95.700478605899875, 4.0333455623348247, 93.852403369564527, 9.7364435298183363, 4.4884188179088129, 1.0418735519833655, 1.2322453668291027, 3.0994817200651337]\n",
      "Eliminating 'Rooms' at index: 0\n"
     ]
    }
   ],
   "source": [
    "from statsmodels.stats.outliers_influence import variance_inflation_factor\n",
    "threshold = 90\n",
    "for i in np.arange(0,len(predictor_variables)):\n",
    "    vif = [variance_inflation_factor(df_predictor[predictor_variables].values, j) \n",
    "    for j in range(df_predictor[predictor_variables].shape[1])]\n",
    "    maxindex = vif.index(max(vif))\n",
    "    if max(vif) > threshold:\n",
    "        print (\"VIF :\", vif)\n",
    "        print('Eliminating \\'' + df_predictor[predictor_variables].columns[maxindex] + '\\' at index: ' + str(maxindex))\n",
    "        del predictor_variables[maxindex]\n",
    "    else:\n",
    "        break"
   ]
  },
  {
   "cell_type": "code",
   "execution_count": 86,
   "metadata": {},
   "outputs": [
    {
     "data": {
      "text/plain": [
       "['Distance',\n",
       " 'Bedroom',\n",
       " 'Bathroom',\n",
       " 'Car',\n",
       " 'Landsize',\n",
       " 'BuildingArea',\n",
       " 'Propertycount']"
      ]
     },
     "execution_count": 86,
     "metadata": {},
     "output_type": "execute_result"
    }
   ],
   "source": [
    "predictor_variables"
   ]
  },
  {
   "cell_type": "markdown",
   "metadata": {},
   "source": [
    "We can see that VIF has eliminated 'Rooms' variable from the independent variables."
   ]
  },
  {
   "cell_type": "markdown",
   "metadata": {},
   "source": [
    "### ---Try to apply the above analysis for different datasets--- "
   ]
  }
 ],
 "metadata": {
  "kernelspec": {
   "display_name": "Python 3",
   "language": "python",
   "name": "python3"
  },
  "language_info": {
   "codemirror_mode": {
    "name": "ipython",
    "version": 3
   },
   "file_extension": ".py",
   "mimetype": "text/x-python",
   "name": "python",
   "nbconvert_exporter": "python",
   "pygments_lexer": "ipython3",
   "version": "3.6.3"
  }
 },
 "nbformat": 4,
 "nbformat_minor": 2
}
