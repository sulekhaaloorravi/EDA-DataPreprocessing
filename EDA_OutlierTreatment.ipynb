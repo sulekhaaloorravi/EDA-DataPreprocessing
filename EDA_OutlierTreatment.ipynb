{
 "cells": [
  {
   "cell_type": "markdown",
   "id": "46f406c5",
   "metadata": {},
   "source": [
    "Definition: Outliers are extreme values that differ significantly from other observations.\n",
    "\n",
    "Causes: Data entry errors, natural variation, and unexpected behavior.\n",
    "\n",
    "Effects: Outliers can skew analyses, distort model training, and reduce accuracy."
   ]
  },
  {
   "cell_type": "code",
   "execution_count": 1,
   "id": "9ed5b079",
   "metadata": {},
   "outputs": [],
   "source": [
    "import pandas as pd\n",
    "import numpy as np\n",
    "import matplotlib.pyplot as plt"
   ]
  },
  {
   "cell_type": "markdown",
   "id": "5da5efd5",
   "metadata": {},
   "source": [
    "Boxplot: Highlights points outside the IQR-based whiskers.\n",
    "    \n",
    "Scatter Plot: Helps spot outliers in a two-variable context."
   ]
  },
  {
   "cell_type": "code",
   "execution_count": 2,
   "id": "95442e1d",
   "metadata": {},
   "outputs": [
    {
     "data": {
      "image/png": "[encoded data removed]",
      "text/plain": [
       "<Figure size 600x400 with 1 Axes>"
      ]
     },
     "metadata": {},
     "output_type": "display_data"
    }
   ],
   "source": [
    "# Generate some example data\n",
    "data = {'Value': np.concatenate((np.random.normal(50, 5, 100), [100, 120, 130]))}\n",
    "df = pd.DataFrame(data)\n",
    "\n",
    "# Boxplot to identify outliers\n",
    "plt.figure(figsize=(6,4))\n",
    "plt.boxplot(df['Value'])\n",
    "plt.title(\"Boxplot of Values\")\n",
    "plt.show()"
   ]
  },
  {
   "cell_type": "markdown",
   "id": "e30402bc",
   "metadata": {},
   "source": [
    "### Statistical Methods"
   ]
  },
  {
   "cell_type": "markdown",
   "id": "b010418f",
   "metadata": {},
   "source": [
    "Z-Score Method: Outliers if Z-score > 3 or < -3.\n",
    "    \n",
    "IQR Method: Outliers if values fall outside Q1 - 1.5*IQR and Q3 + 1.5*IQR."
   ]
  },
  {
   "cell_type": "code",
   "execution_count": 3,
   "id": "684f315d",
   "metadata": {},
   "outputs": [
    {
     "name": "stdout",
     "output_type": "stream",
     "text": [
      "Outliers based on Z-score:\n",
      "      Value   Z_Score\n",
      "100  100.0  3.887359\n",
      "101  120.0  5.474552\n",
      "102  130.0  6.268148\n"
     ]
    }
   ],
   "source": [
    "# Z-score method\n",
    "from scipy.stats import zscore\n",
    "df['Z_Score'] = zscore(df['Value'])\n",
    "outliers_z = df[(df['Z_Score'] > 3) | (df['Z_Score'] < -3)]\n",
    "print(\"Outliers based on Z-score:\\n\", outliers_z)"
   ]
  },
  {
   "cell_type": "code",
   "execution_count": 4,
   "id": "2559f5f2",
   "metadata": {},
   "outputs": [
    {
     "name": "stdout",
     "output_type": "stream",
     "text": [
      "Outliers based on IQR:\n",
      "           Value   Z_Score\n",
      "27    35.315944 -1.245944\n",
      "100  100.000000  3.887359\n",
      "101  120.000000  5.474552\n",
      "102  130.000000  6.268148\n"
     ]
    }
   ],
   "source": [
    "# IQR method\n",
    "Q1 = df['Value'].quantile(0.25)\n",
    "Q3 = df['Value'].quantile(0.75)\n",
    "IQR = Q3 - Q1\n",
    "outliers_iqr = df[(df['Value'] < (Q1 - 1.5 * IQR)) | (df['Value'] > (Q3 + 1.5 * IQR))]\n",
    "print(\"Outliers based on IQR:\\n\", outliers_iqr)"
   ]
  },
  {
   "cell_type": "markdown",
   "id": "7b81fb53",
   "metadata": {},
   "source": [
    "### Treating Outliers"
   ]
  },
  {
   "cell_type": "markdown",
   "id": "3875a2ed",
   "metadata": {},
   "source": [
    "Removing Outliers: Useful when outliers are errors or extremely irrelevant."
   ]
  },
  {
   "cell_type": "code",
   "execution_count": 5,
   "id": "696d5469",
   "metadata": {},
   "outputs": [
    {
     "name": "stdout",
     "output_type": "stream",
     "text": [
      "        Value   Z_Score\n",
      "0   43.715690 -0.579344\n",
      "1   47.323489 -0.293030\n",
      "2   47.727353 -0.260979\n",
      "3   46.537297 -0.355422\n",
      "4   56.054638  0.399871\n",
      "..        ...       ...\n",
      "95  38.487408 -0.994258\n",
      "96  62.944969  0.946685\n",
      "97  58.153330  0.566422\n",
      "98  43.655543 -0.584117\n",
      "99  44.336043 -0.530113\n",
      "\n",
      "[99 rows x 2 columns]\n"
     ]
    }
   ],
   "source": [
    "# Removing outliers based on IQR method\n",
    "df_cleaned = df[~((df['Value'] < (Q1 - 1.5 * IQR)) | (df['Value'] > (Q3 + 1.5 * IQR)))]\n",
    "print(df_cleaned)"
   ]
  },
  {
   "cell_type": "markdown",
   "id": "3ed3a6a5",
   "metadata": {},
   "source": [
    "Imputing Outliers:\n",
    "\n",
    "Replace with median or mean.\n",
    "\n",
    "Winsorization: Capping outliers to nearest non-outlier values."
   ]
  },
  {
   "cell_type": "code",
   "execution_count": 6,
   "id": "b28953db",
   "metadata": {},
   "outputs": [
    {
     "name": "stdout",
     "output_type": "stream",
     "text": [
      "          Value   Z_Score  Value_Imputed\n",
      "0     43.715690 -0.579344      43.715690\n",
      "1     47.323489 -0.293030      47.323489\n",
      "2     47.727353 -0.260979      47.727353\n",
      "3     46.537297 -0.355422      46.537297\n",
      "4     56.054638  0.399871      56.054638\n",
      "..          ...       ...            ...\n",
      "98    43.655543 -0.584117      43.655543\n",
      "99    44.336043 -0.530113      44.336043\n",
      "100  100.000000  3.887359      48.801068\n",
      "101  120.000000  5.474552      48.801068\n",
      "102  130.000000  6.268148      48.801068\n",
      "\n",
      "[103 rows x 3 columns]\n"
     ]
    }
   ],
   "source": [
    "# Replacing outliers with median\n",
    "median_value = df['Value'].median()\n",
    "df['Value_Imputed'] = np.where(df['Value'] > (Q3 + 1.5 * IQR), median_value, df['Value'])\n",
    "print(df)"
   ]
  },
  {
   "cell_type": "markdown",
   "id": "38a99ded",
   "metadata": {},
   "source": [
    "### Transforming Outliers"
   ]
  },
  {
   "cell_type": "markdown",
   "id": "ceef5f05",
   "metadata": {},
   "source": [
    "Log or square root transformations to reduce the effect of high values."
   ]
  },
  {
   "cell_type": "code",
   "execution_count": 7,
   "id": "1e11e4b7",
   "metadata": {},
   "outputs": [
    {
     "data": {
      "image/png": "[encoded data removed]",
      "text/plain": [
       "<Figure size 640x480 with 1 Axes>"
      ]
     },
     "metadata": {},
     "output_type": "display_data"
    }
   ],
   "source": [
    "# Log transformation for skewed data\n",
    "df['Log_Value'] = np.log(df['Value'] + 1)  # Adding 1 to avoid log(0)\n",
    "plt.hist(df['Log_Value'], bins=20)\n",
    "plt.title(\"Histogram after Log Transformation\")\n",
    "plt.show()"
   ]
  },
  {
   "cell_type": "markdown",
   "id": "97f542cf",
   "metadata": {},
   "source": [
    "### Advanced Outlier Detection Techniques"
   ]
  },
  {
   "cell_type": "markdown",
   "id": "994fa71d",
   "metadata": {},
   "source": [
    "Isolation Forest: Anomaly detection method that isolates observations by randomly selecting features and split values."
   ]
  },
  {
   "cell_type": "code",
   "execution_count": 8,
   "id": "a4ecbe5e",
   "metadata": {},
   "outputs": [
    {
     "name": "stdout",
     "output_type": "stream",
     "text": [
      "Isolation Forest outliers:\n",
      "           Value   Z_Score  Value_Imputed  Log_Value  Anomaly_Score\n",
      "10    39.777049 -0.891913      39.777049   3.708119             -1\n",
      "13    40.517017 -0.833189      40.517017   3.726103             -1\n",
      "27    35.315944 -1.245944      35.315944   3.592257             -1\n",
      "44    58.784666  0.616525      58.784666   4.090749             -1\n",
      "90    37.295868 -1.088818      37.295868   3.645342             -1\n",
      "95    38.487408 -0.994258      38.487408   3.675982             -1\n",
      "96    62.944969  0.946685      62.944969   4.158023             -1\n",
      "97    58.153330  0.566422      58.153330   4.080133             -1\n",
      "100  100.000000  3.887359      48.801068   4.615121             -1\n",
      "101  120.000000  5.474552      48.801068   4.795791             -1\n",
      "102  130.000000  6.268148      48.801068   4.875197             -1\n"
     ]
    }
   ],
   "source": [
    "from sklearn.ensemble import IsolationForest\n",
    "iso_forest = IsolationForest(contamination=0.1)\n",
    "df['Anomaly_Score'] = iso_forest.fit_predict(df[['Value']])\n",
    "print(\"Isolation Forest outliers:\\n\", df[df['Anomaly_Score'] == -1])"
   ]
  },
  {
   "cell_type": "markdown",
   "id": "e9ca46a0",
   "metadata": {},
   "source": [
    "DBSCAN: Density-based clustering method for finding outliers in multi-dimensional data."
   ]
  },
  {
   "cell_type": "code",
   "execution_count": 9,
   "id": "c830da4c",
   "metadata": {},
   "outputs": [
    {
     "name": "stdout",
     "output_type": "stream",
     "text": [
      "DBSCAN Outliers:\n",
      "           Value   Z_Score  Value_Imputed  Log_Value  Anomaly_Score  \\\n",
      "96    62.944969  0.946685      62.944969   4.158023             -1   \n",
      "100  100.000000  3.887359      48.801068   4.615121             -1   \n",
      "101  120.000000  5.474552      48.801068   4.795791             -1   \n",
      "102  130.000000  6.268148      48.801068   4.875197             -1   \n",
      "\n",
      "     DBSCAN_Outlier  \n",
      "96               -1  \n",
      "100              -1  \n",
      "101              -1  \n",
      "102              -1  \n"
     ]
    }
   ],
   "source": [
    "from sklearn.cluster import DBSCAN\n",
    "clustering = DBSCAN(eps=3, min_samples=2).fit(df[['Value']])\n",
    "df['DBSCAN_Outlier'] = clustering.labels_\n",
    "print(\"DBSCAN Outliers:\\n\", df[df['DBSCAN_Outlier'] == -1])"
   ]
  },
  {
   "cell_type": "markdown",
   "id": "b37cad44",
   "metadata": {},
   "source": [
    "Robust Scaler: Using a scaler that minimizes the impact of outliers, especially helpful for machine learning models."
   ]
  },
  {
   "cell_type": "code",
   "execution_count": 10,
   "id": "5cf9762b",
   "metadata": {},
   "outputs": [
    {
     "name": "stdout",
     "output_type": "stream",
     "text": [
      "Values after robust scaling:\n",
      "           Value   Z_Score  Value_Imputed  Log_Value  Anomaly_Score  \\\n",
      "0     43.715690 -0.579344      43.715690   3.800324              1   \n",
      "1     47.323489 -0.293030      47.323489   3.877918              1   \n",
      "2     47.727353 -0.260979      47.727353   3.886241              1   \n",
      "3     46.537297 -0.355422      46.537297   3.861515              1   \n",
      "4     56.054638  0.399871      56.054638   4.044009              1   \n",
      "..          ...       ...            ...        ...            ...   \n",
      "98    43.655543 -0.584117      43.655543   3.798978              1   \n",
      "99    44.336043 -0.530113      44.336043   3.814102              1   \n",
      "100  100.000000  3.887359      48.801068   4.615121             -1   \n",
      "101  120.000000  5.474552      48.801068   4.795791             -1   \n",
      "102  130.000000  6.268148      48.801068   4.875197             -1   \n",
      "\n",
      "     DBSCAN_Outlier  Scaled_Value  \n",
      "0                 0     -0.715317  \n",
      "1                 0     -0.207839  \n",
      "2                 0     -0.151031  \n",
      "3                 0     -0.318426  \n",
      "4                 0      1.020298  \n",
      "..              ...           ...  \n",
      "98                0     -0.723778  \n",
      "99                0     -0.628057  \n",
      "100              -1      7.201722  \n",
      "101              -1     10.014953  \n",
      "102              -1     11.421569  \n",
      "\n",
      "[103 rows x 7 columns]\n"
     ]
    }
   ],
   "source": [
    "from sklearn.preprocessing import RobustScaler\n",
    "scaler = RobustScaler()\n",
    "df['Scaled_Value'] = scaler.fit_transform(df[['Value']])\n",
    "print(\"Values after robust scaling:\\n\", df)"
   ]
  },
  {
   "cell_type": "code",
   "execution_count": null,
   "id": "0b9f8c6c",
   "metadata": {},
   "outputs": [],
   "source": []
  }
 ],
 "metadata": {
  "kernelspec": {
   "display_name": "Python 3 (ipykernel)",
   "language": "python",
   "name": "python3"
  },
  "language_info": {
   "codemirror_mode": {
    "name": "ipython",
    "version": 3
   },
   "file_extension": ".py",
   "mimetype": "text/x-python",
   "name": "python",
   "nbconvert_exporter": "python",
   "pygments_lexer": "ipython3",
   "version": "3.11.5"
  }
 },
 "nbformat": 4,
 "nbformat_minor": 5
}
