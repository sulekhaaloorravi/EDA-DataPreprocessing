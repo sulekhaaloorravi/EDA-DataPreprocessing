{
 "cells": [
  {
   "cell_type": "markdown",
   "id": "0b0f1e57",
   "metadata": {},
   "source": [
    "### Basic date parsing"
   ]
  },
  {
   "cell_type": "code",
   "execution_count": 1,
   "id": "de01041e",
   "metadata": {},
   "outputs": [
    {
     "name": "stdout",
     "output_type": "stream",
     "text": [
      "0   2023-01-01\n",
      "1   2024-03-05\n",
      "2   2025-07-20\n",
      "dtype: datetime64[ns]\n"
     ]
    }
   ],
   "source": [
    "import pandas as pd\n",
    "date_series = pd.Series([\"2023-01-01\", \"2024-03-05\", \"2025-07-20\"])\n",
    "dates = pd.to_datetime(date_series)\n",
    "print(dates)"
   ]
  },
  {
   "cell_type": "markdown",
   "id": "ffd00f7d",
   "metadata": {},
   "source": [
    "### Standard date parsing"
   ]
  },
  {
   "cell_type": "code",
   "execution_count": 2,
   "id": "135a453e",
   "metadata": {},
   "outputs": [],
   "source": [
    "df = pd.DataFrame({'Date': [\"2023-01-01\", \"2024-03-05\", \"2025-07-20\"]})\n",
    "df['Date'] = pd.to_datetime(df['Date'])"
   ]
  },
  {
   "cell_type": "markdown",
   "id": "6ea5bdd5",
   "metadata": {},
   "source": [
    "### Custom date format"
   ]
  },
  {
   "cell_type": "code",
   "execution_count": 3,
   "id": "051e0ddb",
   "metadata": {},
   "outputs": [
    {
     "name": "stdout",
     "output_type": "stream",
     "text": [
      "        Date\n",
      "0 2023-01-01\n",
      "1 2024-03-05\n",
      "2 2025-07-20\n"
     ]
    }
   ],
   "source": [
    "df = pd.DataFrame({'Date': [\"01-2023-01\", \"05-2024-03\", \"20-2025-07\"]})\n",
    "df['Date'] = pd.to_datetime(df['Date'], format=\"%d-%Y-%m\")\n",
    "print(df)"
   ]
  },
  {
   "cell_type": "markdown",
   "id": "4a86c725",
   "metadata": {},
   "source": [
    "### Extracting Date Components"
   ]
  },
  {
   "cell_type": "code",
   "execution_count": 4,
   "id": "1d54db51",
   "metadata": {},
   "outputs": [],
   "source": [
    "df['Year'] = df['Date'].dt.year\n",
    "df['Month'] = df['Date'].dt.month\n",
    "df['Day'] = df['Date'].dt.day\n",
    "df['Weekday'] = df['Date'].dt.weekday  # 0 = Monday, 6 = Sunday"
   ]
  },
  {
   "cell_type": "markdown",
   "id": "4a92e771",
   "metadata": {},
   "source": [
    "### Grouping by month"
   ]
  },
  {
   "cell_type": "code",
   "execution_count": 5,
   "id": "38a02c53",
   "metadata": {},
   "outputs": [
    {
     "name": "stdout",
     "output_type": "stream",
     "text": [
      "Date\n",
      "1    1\n",
      "3    1\n",
      "7    1\n",
      "dtype: int64\n"
     ]
    }
   ],
   "source": [
    "monthly_data = df.groupby(df['Date'].dt.month).size()\n",
    "print(monthly_data)"
   ]
  },
  {
   "cell_type": "markdown",
   "id": "279efe09",
   "metadata": {},
   "source": [
    "### Date Arithmetic"
   ]
  },
  {
   "cell_type": "markdown",
   "id": "6b2b8bbc",
   "metadata": {},
   "source": [
    "#### Adding days"
   ]
  },
  {
   "cell_type": "code",
   "execution_count": 6,
   "id": "955e9b53",
   "metadata": {},
   "outputs": [],
   "source": [
    "df['Next Month'] = df['Date'] + pd.DateOffset(months=1)"
   ]
  },
  {
   "cell_type": "markdown",
   "id": "d5a0a4f7",
   "metadata": {},
   "source": [
    "#### Calculating difference between two dates"
   ]
  },
  {
   "cell_type": "code",
   "execution_count": 8,
   "id": "cb9440b0",
   "metadata": {},
   "outputs": [
    {
     "name": "stdout",
     "output_type": "stream",
     "text": [
      "        Date  Year  Month  Day  Weekday Next Month  Days Difference\n",
      "0 2023-01-01  2023      1    1        6 2023-02-01               31\n",
      "1 2024-03-05  2024      3    5        1 2024-04-05               31\n",
      "2 2025-07-20  2025      7   20        6 2025-08-20               31\n"
     ]
    }
   ],
   "source": [
    "df['Days Difference'] = (df['Next Month'] - df['Date']).dt.days\n",
    "print(df)"
   ]
  }
 ],
 "metadata": {
  "kernelspec": {
   "display_name": "Python 3 (ipykernel)",
   "language": "python",
   "name": "python3"
  },
  "language_info": {
   "codemirror_mode": {
    "name": "ipython",
    "version": 3
   },
   "file_extension": ".py",
   "mimetype": "text/x-python",
   "name": "python",
   "nbconvert_exporter": "python",
   "pygments_lexer": "ipython3",
   "version": "3.11.5"
  }
 },
 "nbformat": 4,
 "nbformat_minor": 5
}
